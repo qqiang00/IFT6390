{
 "cells": [
  {
   "cell_type": "markdown",
   "metadata": {
    "colab_type": "text",
    "id": "ANUNrg0tGBJL"
   },
   "source": [
    "\n",
    "\n",
    "\n",
    "# <center>Codes for Homework4_IFT6390(Kaggle Competition)</center>\n",
    "\n",
    "<center>Qiang Ye (20139927),  Lifeng Wan (20108546),  Jinfang, Luo(20111308)</center>\n",
    "\n",
    "<center>Team Name on Kaggle: YLW_IFT6390_UdeM</center>\n",
    "\n",
    "<center>Last Modified: 1 december 2018</center>\n",
    "\n"
   ]
  },
  {
   "cell_type": "markdown",
   "metadata": {
    "colab_type": "text",
    "id": "Gd-QtXrbTnPl"
   },
   "source": [
    "## Introduction\n",
    "This .ipynb is for the Kaggle in-class competition: \"Quick Draw\". \n",
    "\n",
    "The codes is designed to run on google Colab with GPU computation platform, yet it also works on local machine with only CPU supported. \n",
    "\n",
    "Before running this .ipynb file, you should download the training and testing data and put them in a folder:\n",
    "\n",
    "1. go to https://www.kaggle.com/c/ift3395-6390-f2018, download 4 data files: `train_images.npy`, `train_labels.csv`, `test_images.npy`, and `sample_submission.csv`, \n",
    "2. create a new folder named \"input\" in the directory where this .ipynb file is, \n",
    "3. put the 4 files into the folder created.\n",
    "\n",
    "`pytorch 0.4.1` is chosen as our machine learning modules; besides, codes are also relied on the following basic python libraries:\n",
    " - python 3.5.2, \n",
    " - numpy 1.14.2 \n",
    " - matplotlib 2.2.0, \n",
    " - torchvision 0.2.1\n",
    " \n",
    "Some other modules are also used yet not fully listed here.\n",
    "\n",
    "The whole .ipynb is divided into the following 11 sections:\n",
    "\n",
    "- Support for Codes Running on Colab with GPU\n",
    "- Necessary Modules & Basic Tool Functions\n",
    "- Loading Original Data\n",
    "- Baseline model - Linear SVM\n",
    "- Data Pre-Processing\n",
    "- Data Augmentation\n",
    "- Models\n",
    "- Preparation for Training Competitative Models\n",
    "- Training Models\n",
    "- Performance Analysis\n",
    "- Testing Models on Test Dataset\n",
    "\n",
    "The first section gives us an access to use the Colab platform with high speed computation. If you encounter errors when running codes in this section, the following link could help you:\n",
    "- https://colab.research.google.com/\n",
    "- https://medium.com/deep-learning-turkey/google-colab-free-gpu-tutorial-e113627b9f5d\n",
    "\n",
    "The second section imports basic modules required and use GPU resources if available. If error occurs in this section, it is probably because some modules are not installed. If GPU is not available, CPU will be used. \n",
    "\n",
    "From the thrid section until to the end of the file, we built our codes by first implementing some methods, then use some codes to test and show the outputs of the methods to make sure these methods are well functioned. A global bool variant `SHOW_DEMO` is used to open or close these code blocks which is somehow like:\n",
    "\n",
    "    if USE_DEMO:\n",
    "        # codes here\n",
    "        pass\n",
    "        \n",
    "We recommend you set `SHOW_DEMO = True` for the first time running this .ipynb, such that you have a good understanding of the role of each method we implemented. After you have a clear idea of all the methods, you may use `SHOW_DEMO = False` to skip all check codes, focusing on the section: **Training Models**, select **run before** in your notebook menus, and start  training a model.\n",
    "\n",
    "Without further due, let's start by executing the first code cell(line):"
   ]
  },
  {
   "cell_type": "code",
   "execution_count": 0,
   "metadata": {
    "colab": {},
    "colab_type": "code",
    "id": "y-CE_HEj6RzB"
   },
   "outputs": [],
   "source": [
    "SHOW_DEMO = False"
   ]
  },
  {
   "cell_type": "markdown",
   "metadata": {
    "colab_type": "text",
    "id": "Is8xd8tkGP5C"
   },
   "source": [
    "## 1. Support for Codes Running on Colab with GPU\n",
    "\n",
    "The following codes help to run this .ipynb on google colab computation platform. If you run this .ipynb on your local machine, ignore the codes in this section.\n",
    "\n"
   ]
  },
  {
   "cell_type": "code",
   "execution_count": 0,
   "metadata": {
    "colab": {},
    "colab_type": "code",
    "id": "zOsxpSJ7uNdj"
   },
   "outputs": [],
   "source": [
    "# instruction of using colab python \n",
    "# https://medium.com/deep-learning-turkey/google-colab-free-gpu-tutorial-e113627b9f5d\n",
    "\n",
    "from os.path import exists\n",
    "from wheel.pep425tags import get_abbr_impl, get_impl_ver, get_abi_tag\n",
    "platform = '{}{}-{}'.format(get_abbr_impl(), get_impl_ver(), get_abi_tag())\n",
    "cuda_output = !ldconfig -p|grep cudart.so|sed -e 's/.*\\.\\([0-9]*\\)\\.\\([0-9]*\\)$/cu\\1\\2/'\n",
    "accelerator = cuda_output[0] if exists('/dev/nvidia0') else 'cpu'\n",
    "\n",
    "!pip install -q http://download.pytorch.org/whl/{accelerator}/torch-0.4.1-{platform}-linux_x86_64.whl torchvision\n",
    "import torch"
   ]
  },
  {
   "cell_type": "markdown",
   "metadata": {
    "colab_type": "text",
    "id": "NFDOOfOFlosU"
   },
   "source": [
    "Mount drive on google drive."
   ]
  },
  {
   "cell_type": "code",
   "execution_count": 3,
   "metadata": {
    "colab": {
     "base_uri": "https://localhost:8080/",
     "height": 54
    },
    "colab_type": "code",
    "executionInfo": {
     "elapsed": 7668,
     "status": "ok",
     "timestamp": 1543704410826,
     "user": {
      "displayName": "Qiang YE",
      "photoUrl": "https://lh6.googleusercontent.com/-k-9mYNphfpc/AAAAAAAAAAI/AAAAAAAAARQ/zyID3sFntfM/s64/photo.jpg",
      "userId": "15200210150486633975"
     },
     "user_tz": 300
    },
    "id": "MbOHEq0_0unK",
    "outputId": "09f49d8a-ebfa-4852-da92-ffbbaedb344f"
   },
   "outputs": [
    {
     "name": "stdout",
     "output_type": "stream",
     "text": [
      "Drive already mounted at /content/drive/; to attempt to forcibly remount, call drive.mount(\"/content/drive/\", force_remount=True).\n"
     ]
    }
   ],
   "source": [
    "from google.colab import drive\n",
    "drive.mount('/content/drive/')\n",
    "# 4/oQAe5a98SL9kZzGrY2QyFGlcPFGy4wN4gZZ1O8R4y4zXhhJWJ0KnGT4"
   ]
  },
  {
   "cell_type": "markdown",
   "metadata": {
    "colab_type": "text",
    "id": "YinWB1MDlu8L"
   },
   "source": [
    "Redirect to current working directory"
   ]
  },
  {
   "cell_type": "code",
   "execution_count": 4,
   "metadata": {
    "colab": {
     "base_uri": "https://localhost:8080/",
     "height": 193
    },
    "colab_type": "code",
    "executionInfo": {
     "elapsed": 9111,
     "status": "ok",
     "timestamp": 1543704412298,
     "user": {
      "displayName": "Qiang YE",
      "photoUrl": "https://lh6.googleusercontent.com/-k-9mYNphfpc/AAAAAAAAAAI/AAAAAAAAARQ/zyID3sFntfM/s64/photo.jpg",
      "userId": "15200210150486633975"
     },
     "user_tz": 300
    },
    "id": "7TLCbYar1DCO",
    "outputId": "8d321f31-73f1-40e4-d7e0-7a00a3989fee"
   },
   "outputs": [
    {
     "name": "stdout",
     "output_type": "stream",
     "text": [
      " candidates\t\t\t hw4.ipynb\n",
      " cnn_nets.py\t\t\t HW4_ResNet.ipynb\n",
      " Codes_HW4_IFT6390_Final.ipynb\t input\n",
      "'Copy of hw4_IFT6390.ipynb'\t models\n",
      " fastai.ipynb\t\t\t Read_Me.ipynb\n",
      " HW4-11272055.ipynb\t\t'Report of Homework4_ML.ipynb'\n",
      " HW4_1127Bagging.ipynb\t\t Sophie\n",
      " HW4_1128Bagging.ipynb\t\t submissions\n",
      "'hw4 (1).ipynb'\t\t\t Untitled0.ipynb\n",
      " hw4_IFT6390.ipynb\n"
     ]
    }
   ],
   "source": [
    "import os\n",
    "os.chdir(\"drive/My Drive/Colab Notebooks/\")\n",
    "#check if you are in the right directory\n",
    "!ls"
   ]
  },
  {
   "cell_type": "markdown",
   "metadata": {
    "colab_type": "text",
    "id": "8I7pTtmmGrW9"
   },
   "source": [
    "## 2. Necessary Modules & Basic Tool Functions"
   ]
  },
  {
   "cell_type": "markdown",
   "metadata": {
    "colab_type": "text",
    "id": "S1vDnAXsl2bv"
   },
   "source": [
    "Load modules necessary and frequently used here, try to use GPU if available."
   ]
  },
  {
   "cell_type": "code",
   "execution_count": 5,
   "metadata": {
    "colab": {
     "base_uri": "https://localhost:8080/",
     "height": 34
    },
    "colab_type": "code",
    "executionInfo": {
     "elapsed": 9774,
     "status": "ok",
     "timestamp": 1543704412986,
     "user": {
      "displayName": "Qiang YE",
      "photoUrl": "https://lh6.googleusercontent.com/-k-9mYNphfpc/AAAAAAAAAAI/AAAAAAAAARQ/zyID3sFntfM/s64/photo.jpg",
      "userId": "15200210150486633975"
     },
     "user_tz": 300
    },
    "id": "w_DwnRlttoKN",
    "outputId": "bb6f2141-50fa-4886-d2ca-62047aa58670"
   },
   "outputs": [
    {
     "name": "stdout",
     "output_type": "stream",
     "text": [
      "cuda\n"
     ]
    }
   ],
   "source": [
    "import numpy as np\n",
    "from __future__ import print_function, division\n",
    "import matplotlib.pyplot as plt\n",
    "%matplotlib inline\n",
    "import time\n",
    "import os\n",
    "import copy\n",
    "import sys\n",
    "import torch\n",
    "import torch.nn as nn\n",
    "import torch.nn.functional as F\n",
    "import torch.optim as optim\n",
    "from torch.optim import lr_scheduler\n",
    "import torchvision\n",
    "from scipy.ndimage import rotate\n",
    "\n",
    "# use GPU as priority if available\n",
    "if torch.cuda.is_available():\n",
    "    device = torch.device('cuda')\n",
    "    use_cuda = True\n",
    "else:\n",
    "    device = torch.device('cpu')\n",
    "    use_cuda = False\n",
    "    \n",
    "torch.set_default_tensor_type(torch.DoubleTensor)\n",
    "print(device)"
   ]
  },
  {
   "cell_type": "markdown",
   "metadata": {
    "colab_type": "text",
    "id": "sycRu_5HHip6"
   },
   "source": [
    "We built two basic and very useful tool functions here: function `debug` plays similar roles as python's builtin function: `print`; function `print_progress` displays progress for some time-comsuming procudures, which provides a user-friendly user interface.\n"
   ]
  },
  {
   "cell_type": "code",
   "execution_count": 0,
   "metadata": {
    "colab": {},
    "colab_type": "code",
    "id": "oSxBaflwtoKV"
   },
   "outputs": [],
   "source": [
    "# We built two functions: `debug` and `print_progress` for debugging during \n",
    "# development and show training progress respectively.\n",
    "\n",
    "DEBUG = True\n",
    "def debug(*args, **kwargs):\n",
    "    global DEBUG\n",
    "    if DEBUG:\n",
    "        print(*args, **kwargs)\n",
    "        \n",
    "\n",
    "def print_progress(i, time_elapsed = None, before = \"progress:\", after = \"\"):\n",
    "    \"\"\"show progress of process, often used in training a neural network model\n",
    "    params\n",
    "        i: progress value in [0, 1.], double\n",
    "        time_elapsed: time elapsed from progress 0.0 to current progress, double\n",
    "        before: descriptive content displayed before progress i, str\n",
    "        after: descriptive content displayed after progress i, str\n",
    "    \"\"\"\n",
    "    if time_elapsed is not None:\n",
    "        if i >= 1:\n",
    "            time_remaining = 0\n",
    "        elif 0 < i < 1:\n",
    "            time_remaining = time_elapsed * (1. - i) / i\n",
    "        else:\n",
    "            time_remaining = float('inf')\n",
    "            \n",
    "    progress_info = '{:>7.2%}'.format(i) # align right, 7 characters atmost\n",
    "    if time_elapsed is not None:\n",
    "        progress_info += ' {:.0f}m{:.0f}s'.format(\n",
    "            time_elapsed // 60, time_elapsed % 60)\n",
    "        if 0 < i < 1.0:\n",
    "            progress_info += ' {:.0f}m{:.0f}s'.format(\n",
    "                time_remaining // 60, time_remaining % 60)\n",
    "\n",
    "    # display progress repeately in the same line.\n",
    "    progress_info = '\\r' + before + progress_info + after\n",
    "    sys.stdout.flush()\n",
    "    sys.stdout.write(progress_info)"
   ]
  },
  {
   "cell_type": "markdown",
   "metadata": {
    "colab_type": "text",
    "id": "1L0UkDQMm4nM"
   },
   "source": [
    "We also created two folders to manager the intermediate files: models and submissions."
   ]
  },
  {
   "cell_type": "code",
   "execution_count": 0,
   "metadata": {
    "colab": {},
    "colab_type": "code",
    "id": "JV46yc-0toKX"
   },
   "outputs": [],
   "source": [
    "# build two directories for saving model and submission files.\n",
    "folders = ['./models', './submissions']\n",
    "for i in range(len(folders)):\n",
    "    if not os.path.exists(folders[i]):\n",
    "        debug(\"creat\")\n",
    "        try:\n",
    "            debug(\"creating folder: '{}'. \".format(folders[i]), end = \"\")\n",
    "            os.mkdir(folders[i])\n",
    "            debug(\"success.\")\n",
    "        except():\n",
    "            debug(\"failure.\")       "
   ]
  },
  {
   "cell_type": "markdown",
   "metadata": {
    "colab_type": "text",
    "id": "4Oeephl0HpbP"
   },
   "source": [
    "## 3. Loading Original Data"
   ]
  },
  {
   "cell_type": "markdown",
   "metadata": {
    "colab_type": "text",
    "id": "swnvn3fNHtav"
   },
   "source": [
    "### loading image labels from a file path"
   ]
  },
  {
   "cell_type": "markdown",
   "metadata": {
    "colab_type": "text",
    "id": "eBFsoOk_nj21"
   },
   "source": [
    "Method `load_label_dataset` receives a file path and returns a tuple: `image_labels, int_to_label, label_to_int`. The first variable is a `list` keeping the  true output label data of all training images; the latter two are dicts mapping a image label from `int` to `str` for better understanding the labels and computation efficiency when needed.\n",
    "\n",
    "Method `view_data_distribution` helps to view the numbers of each class in a dataset, which is sometimes a better debug tool when predicting on test dataset."
   ]
  },
  {
   "cell_type": "code",
   "execution_count": 0,
   "metadata": {
    "colab": {},
    "colab_type": "code",
    "id": "AmCTOxGBo6hu"
   },
   "outputs": [],
   "source": [
    "def load_label_dataset(file_path = './input/train_labels.csv'):\n",
    "    # ensure the training labels data are accessible by the path in next line\n",
    "    image_labels_path = './input/train_labels.csv'\n",
    "    debug(\"loading training labels from file: '{}''\".format(image_labels_path))\n",
    "    image_labels_data = np.genfromtxt(image_labels_path, names=True, delimiter=',',\n",
    "                        dtype=[('Id', 'i8'), ('Category', 'S16')])\n",
    "    debug(\"size of image labels:\", image_labels_data.shape[0])\n",
    "    \n",
    "    sample_size = image_labels_data.shape[0]\n",
    "    image_labels = np.zeros((image_labels_data.shape[0], ), dtype = np.long)\n",
    "    \n",
    "    # 2 dicts store the mapping from class id(int) to labels(str), vice versa.\n",
    "    label_to_int, int_to_label = {}, {}\n",
    "    label_i = 0 # first label index\n",
    "    for i, train_label in image_labels_data:\n",
    "        train_label = train_label.decode(\"utf-8\")\n",
    "        if label_to_int.get(train_label) is None:\n",
    "            label_to_int[train_label] = label_i\n",
    "            image_labels[i] = label_i\n",
    "            label_i += 1\n",
    "        else:\n",
    "            image_labels[i] = label_to_int[train_label]\n",
    "\n",
    "    for key, value in label_to_int.items():\n",
    "        int_to_label[value] = key   \n",
    "\n",
    "    n_class = len(int_to_label) # constant. number of classes\n",
    "\n",
    "    #debug(\"first 100 samples in image_labels:\", image_labels[0:100])\n",
    "    debug(\"dict from int to label\", int_to_label)\n",
    "    debug(\"dict from label to int\", label_to_int)\n",
    "    debug(\"train labels shape:\", image_labels.shape)\n",
    "    debug(\"number of classes = \", n_class)\n",
    "    \n",
    "    return image_labels, int_to_label, label_to_int\n",
    "\n",
    "\n",
    "def view_data_distribution(image_labels, desc, int_to_label):\n",
    "    if isinstance(image_labels, list):\n",
    "        image_labels = np.array(image_labels)\n",
    "    labels = image_labels.astype(int).reshape(-1, )\n",
    "    label_samples = np.bincount(labels)\n",
    "    sample_size = len(labels)\n",
    "    n_class = len(label_samples)\n",
    "    print(\"Distribution of: \", desc)\n",
    "    print(\"classes:{} total: {:>3} (100%) \".format(n_class, sample_size))\n",
    "    print(\"-\"*32)\n",
    "    for i in range(len(label_samples)):\n",
    "        print(\"{:>16s}: {:<3} ({:.2%})\".format(\n",
    "            int_to_label[i], label_samples[i], label_samples[i]/sample_size))\n",
    "    print(\"-\"*32)        \n",
    "    "
   ]
  },
  {
   "cell_type": "code",
   "execution_count": 0,
   "metadata": {
    "colab": {},
    "colab_type": "code",
    "id": "PEE0UtsT9vZq"
   },
   "outputs": [],
   "source": [
    "# ensure the training labels data are accessible by the path in next line\n",
    "if SHOW_DEMO:\n",
    "    image_labels, int_to_label, label_to_int = load_label_dataset()"
   ]
  },
  {
   "cell_type": "code",
   "execution_count": 0,
   "metadata": {
    "colab": {},
    "colab_type": "code",
    "id": "XKp8rt2DtoKb",
    "scrolled": true
   },
   "outputs": [],
   "source": [
    "if SHOW_DEMO:\n",
    "    view_data_distribution(image_labels, \"image_set\", int_to_label)"
   ]
  },
  {
   "cell_type": "markdown",
   "metadata": {
    "colab_type": "text",
    "id": "9i6Egri5IqVm"
   },
   "source": [
    "### loading original training images from a file path\n",
    "\n",
    "Original image data is loaded by the following cell. Once the original image data are loaded, it will be pre-processed by noise reduction and data washing to reduce the noise in the images and remove some unreasonable images from the dataset."
   ]
  },
  {
   "cell_type": "code",
   "execution_count": 0,
   "metadata": {
    "colab": {},
    "colab_type": "code",
    "id": "9KzQG5CeE8oE"
   },
   "outputs": [],
   "source": [
    "# ensure the training images data are accessible by the path in next line\n",
    "def load_image_dataset(file_path = './input/train_images.npy'):\n",
    "    debug(\"loading training images from file: '{}'... \".format(file_path))\n",
    "    images_data_original = np.load(file_path, encoding = 'latin1')\n",
    "    debug(\"successful\")\n",
    "    image_data = np.vstack(images_data_original[:, 1]) # original train X\n",
    "    X_original = image_data\n",
    "    debug(\"shape of original training X(images): \", X_original.shape)\n",
    "    return image_data"
   ]
  },
  {
   "cell_type": "code",
   "execution_count": 0,
   "metadata": {
    "colab": {},
    "colab_type": "code",
    "id": "yaEI40X7wZc3"
   },
   "outputs": [],
   "source": [
    "if SHOW_DEMO:\n",
    "    X_original = load_image_dataset()"
   ]
  },
  {
   "cell_type": "markdown",
   "metadata": {
    "colab_type": "text",
    "id": "NeJmT8kFtoKp"
   },
   "source": [
    "### visualizing image data \n",
    "\n",
    "Visualizing the images is very important for us to check if a fucntion is giving the result we expect, especially in data pre-processing and result analysis procedures. Function `show_images` receive one or a set of dataset with the same sample size and labels(if known), display all images, each from one dataset, with an image id randomly selected or user demandes. If a class_name or class id is specified, the `img_id` parameter will be ignored, and only the images of that class will be randomly selected to display."
   ]
  },
  {
   "cell_type": "code",
   "execution_count": 0,
   "metadata": {
    "colab": {},
    "colab_type": "code",
    "id": "h3HWHtZNtoKr"
   },
   "outputs": [],
   "source": [
    "def show_images(Xs, \n",
    "                labels = None,  \n",
    "                img_id = None, \n",
    "                class_id = None, \n",
    "                class_label = None,\n",
    "                is_test = False,\n",
    "                label_to_int = None\n",
    "               ):\n",
    "    \"\"\"show image(s) with a certain index in a list of dataset in a line.\n",
    "    Params\n",
    "        Xs: list of dataset, example: [X_original, X_resized], \n",
    "            usually all the dataset in the list have the same labels.\n",
    "        labels: labels of dataset X,  narray (size, 1) or (size, )\n",
    "        img_id: index of image to be displayed in the dataset, \n",
    "            if img_id is None, randomly select an image id from datasets.\n",
    "        class_id: specify the class_id of image will be displayed, if image\n",
    "            with img_id conflict with class_id, class_id has priority\n",
    "        class_label: name of a class, str\n",
    "        label_to_int: dict(map) from class name to class_id\n",
    "        is_test: indicating whether the image in a test image\n",
    "    \"\"\"\n",
    "    if not isinstance(Xs, list): # support single dataset.\n",
    "        Xs = [Xs]\n",
    "    if (class_id is not None or class_label is not None) and labels is None:\n",
    "        # need labels to select images with certain class_id\n",
    "        raise ValueError(\"need labels should if class_id is not None\")\n",
    "        \n",
    "    n_imgs = len(Xs) # type of images to display\n",
    "    plt.figure(figsize = (3*(n_imgs + 1), 3))\n",
    "    rnd = 0 # default image index is 0\n",
    "    rdn = img_id if img_id is not None else np.random.randint(0, Xs[0].shape[0])\n",
    "    \n",
    "    # if both id and class_id is not None, class_id has priority\n",
    "    if class_id is not None or class_label is not None:\n",
    "        class_id = class_id if class_id else label_to_int[class_label]\n",
    "        indices_with_class_id = np.where(labels == class_id)[0]\n",
    "        rdn = np.random.choice(indices_with_class_id)\n",
    "    \n",
    "    if labels is not None and is_test is False:\n",
    "        debug(\"image id:{}, class_id:{}, class_label:{}\".format(\n",
    "            rdn, labels[rdn], int_to_label[labels[rdn]]))\n",
    "    else:\n",
    "        debug(\"id:{}\".format(rdn))\n",
    "        \n",
    "    for i, X in enumerate(Xs):\n",
    "        if X is not None:\n",
    "            plt.subplot(1, n_imgs, i+1)\n",
    "            size = int(np.sqrt(X.shape[1]))\n",
    "            plt.imshow(X[rdn].reshape(size, size), cmap='gray')\n",
    "    plt.show()"
   ]
  },
  {
   "cell_type": "code",
   "execution_count": 0,
   "metadata": {
    "colab": {},
    "colab_type": "code",
    "id": "3b7ccds_JLOV"
   },
   "outputs": [],
   "source": [
    "if SHOW_DEMO:\n",
    "    show_images(X_original, image_labels, img_id = None, \n",
    "                class_label = \"squiggle\", label_to_int = label_to_int)"
   ]
  },
  {
   "cell_type": "markdown",
   "metadata": {
    "colab_type": "text",
    "id": "REoPOKFp84QA"
   },
   "source": [
    "## 4. Baseline model - Linear SVM\n",
    "."
   ]
  },
  {
   "cell_type": "code",
   "execution_count": 0,
   "metadata": {
    "colab": {},
    "colab_type": "code",
    "id": "dxXa9nF5s1SC"
   },
   "outputs": [],
   "source": [
    "# set this True to run the Linear SVM classifier\n",
    "RUN_LINEAR_SVC = False\n",
    "\n",
    "if RUN_LINEAR_SVC:\n",
    "    from sklearn.model_selection import train_test_split \n",
    "    from sklearn.svm import LinearSVC\n",
    "\n",
    "    train_X, test_X, train_y, test_y = train_test_split(X_original, image_labels, test_size=0.25, random_state=42)\n",
    "\n",
    "    clf = LinearSVC(random_state=0)\n",
    "    print(clf)\n",
    "    clf.fit(train_X, train_y)  \n",
    "    pred_svm = clf.predict(test_X)\n",
    "\n",
    "    valid = np.mean(pred_svm == test_y)\n",
    "    print(\"The accuracy is {:.2f}%\".format(100*valid))\n"
   ]
  },
  {
   "cell_type": "markdown",
   "metadata": {
    "colab_type": "text",
    "id": "6_PvrPWzKave"
   },
   "source": [
    "## 5. Data Pre-Processing"
   ]
  },
  {
   "cell_type": "markdown",
   "metadata": {
    "colab_type": "text",
    "id": "NZj8H2ectoKf"
   },
   "source": [
    "### noise reduction\n",
    "\n",
    "Assuming a meaningful picture will have the largest number of connected pixels(region)if it exists n a training image sample with background noises, . If we can find this largest connected points, the noise on this image can be easily removed. \n",
    "\n",
    "Several alogrithms can be used to find this largest connected pixels(region), such as deep first search(DFS) and density based scan(DBSCAN). Here, we implemented this function using both DFS and DBSCAN algorithms. For DBSCAN algorith, we chose the parameter `epsilon` = 1, and `min_samples` = 2. Both methods almost have the same effects reducing the noise of our dataset.\n",
    "\n",
    "1). using DFS to get a maximal connected point list"
   ]
  },
  {
   "cell_type": "code",
   "execution_count": 0,
   "metadata": {
    "colab": {},
    "colab_type": "code",
    "id": "ca5H9S1stoKg"
   },
   "outputs": [],
   "source": [
    "# methods and class to reduce noise using DFS algorithm\n",
    "class DFS:\n",
    "    \"\"\"a deep first search class \n",
    "    \"\"\"\n",
    "    def __init__(self, my_shape, matrix): \n",
    "        \"\"\"\n",
    "        params\n",
    "            my_shape: shape of search region, tuple or list size of 2\n",
    "            matrix: search region data. narray (my_shape)\n",
    "        \"\"\"\n",
    "        self.row = my_shape[0]\n",
    "        self.col = my_shape[1]\n",
    "        self.matrix = matrix\n",
    "        \n",
    "        \n",
    "    def _is_safe(self, i, j, visited): \n",
    "        return (i >= 0 and i < self.row and \n",
    "                j >= 0 and j < self.col and \n",
    "                not visited[i, j] and self.matrix[i, j] > 0)\n",
    "    \n",
    "    \n",
    "    def get_all_neighborhood(self, i, j, visited, points):\n",
    "        \"\"\"get all points connected to point [i, j]\n",
    "        Params\n",
    "            i, j: row and col index of a given point, int, int\n",
    "            visited: mark whether a point is visited or not, narray\n",
    "            points: connected neighbors of point [i, j],list\n",
    "        Returns\n",
    "            points: \n",
    "        \"\"\"\n",
    "        points.append((i, j))\n",
    "        visited[i, j] = True\n",
    "        nbrs_row = [-1, -1, -1,  0, 0,  1, 1, 1]; \n",
    "        nbrs_col = [-1,  0,  1, -1, 1, -1, 0, 1];   \n",
    "        # Recur for all connected neighbours \n",
    "        for k in range(8): # max neighbor numbers\n",
    "            if self._is_safe(i + nbrs_row[k], j + nbrs_col[k], visited): \n",
    "                self.get_all_neighborhood(i + nbrs_row[k], j + nbrs_col[k], \n",
    "                                          visited, points)\n",
    "        return points\n",
    "    \n",
    "    \n",
    "def get_region_size(matrix, row, col):\n",
    "    \"\"\"this function changes the original data of matrix for specific purpose.\n",
    "    this function is also a recursive function.\n",
    "    \"\"\"\n",
    "    if row < 0 or col < 0 or row >= len(matrix) or col >= len(matrix[row]):\n",
    "        return 0\n",
    "    if matrix[row, col] == 0:\n",
    "        return 0\n",
    "    matrix[row, col] = 0 # avoid repeated counting\n",
    "    size = 1\n",
    "    for r in range(row - 1, row + 2):\n",
    "        for c in range(col - 1, col + 2):\n",
    "            if r != row or c != col:\n",
    "                size += get_region_size(matrix, r, c) # recursive\n",
    "    return size\n",
    "\n",
    "\n",
    "def get_point_in_biggest_region(matrix, m_shape):\n",
    "    max_region_size = 0\n",
    "    rows, cols = m_shape\n",
    "    x, y = 0, 0\n",
    "    for r in range(rows):\n",
    "        for c in range(cols):\n",
    "            if matrix[r, c] > 0:\n",
    "                size = get_region_size(matrix, r, c)\n",
    "                if size > max_region_size:\n",
    "                    x, y = r, c\n",
    "                    max_region_size = size\n",
    "    return x, y    \n",
    "\n",
    "\n",
    "def find_max_connected_points(img, img_size = (100, 100)):\n",
    "    img_copy = copy.deepcopy(img)\n",
    "    x, y = get_point_in_biggest_region(img_copy, img_size)\n",
    "    dfs = DFS(img_size, img)\n",
    "    visited = np.zeros(img_size)\n",
    "    points = dfs.get_all_neighborhood(x, y, visited, [])\n",
    "    return points"
   ]
  },
  {
   "cell_type": "markdown",
   "metadata": {
    "colab_type": "text",
    "id": "MEr5W5uQrbLu"
   },
   "source": [
    "2). using  DBSCAN to get a maximal connected point list"
   ]
  },
  {
   "cell_type": "code",
   "execution_count": 0,
   "metadata": {
    "colab": {},
    "colab_type": "code",
    "id": "2E2xyifAcrQ8"
   },
   "outputs": [],
   "source": [
    "# methods using DBSCAN to reduce noise\n",
    "from sklearn.cluster import DBSCAN\n",
    "\n",
    "def build_db_X(img, img_size = (100, 100)):\n",
    "    \"\"\"generate traing set X as a DBSCAN training set from an image with \n",
    "    certain size.\n",
    "    params\n",
    "        img: a sample from training image data, narray (100, 100) or (10000, )\n",
    "    returns\n",
    "        narray: indicating the row and col indices of non-zeor pixel, (-1, 2)\n",
    "        [[1, 2],\n",
    "         [1, 5],\n",
    "         [33, 25],\n",
    "         ...\n",
    "        ]\n",
    "        where [1, 2] is the row and col indices where a first non-zero pixel is\n",
    "    \"\"\"\n",
    "    img = img.reshape(img_size)\n",
    "    xs, ys = np.nonzero(img)\n",
    "    return np.hstack((np.array(xs).reshape(-1, 1), \n",
    "                      np.array(ys).reshape(-1, 1)))\n",
    "\n",
    "\n",
    "def find_max_connected_points_DBSCAN(img, img_size = (100, 100)):\n",
    "    \"\"\"get max connected region from a dbscan labels\n",
    "    params\n",
    "        db_X: training X for dbscan in 2D: (x, y) of non-zero pixel values in a\n",
    "              (100, 100) original images, narray (non_zero_pixel_num, 2)\n",
    "        db_labels: labels for each element of db_X, narray (non_zero_pixel_num)\n",
    "    returns\n",
    "        a list of (x, y) belong to the largest cluster, except -1(noise)\n",
    "    \"\"\"\n",
    "    db_X = build_db_X(img, img_size)\n",
    "    clustering = DBSCAN(eps = 1, min_samples = 2).fit(db_X)\n",
    "    db_labels = clustering.labels_\n",
    "    has_noise_label = True if -1 in db_labels else False\n",
    "    if has_noise_label:\n",
    "        n_clusters = len(set(db_labels)) - 1\n",
    "        # change the noise label from -1 to a positive number\n",
    "        db_labels[db_labels == -1] = n_clusters + 1\n",
    "        # np.bincount cannot handle value with negative int.\n",
    "    frequent_count = np.bincount(db_labels)\n",
    "    if has_noise_label:\n",
    "        # count for noise label is the last element of the list\n",
    "        # remove the last elment\n",
    "        frequent_count = frequent_count[0:-1] \n",
    "    # find the index of a max frequent_count value, the index is also\n",
    "    # the label value\n",
    "    label_max = np.argmax(frequent_count)\n",
    "    largest_cluster_points = []\n",
    "    for i, label in enumerate(db_labels):\n",
    "        if label == label_max:\n",
    "            largest_cluster_points.append(db_X[i,:])\n",
    "    return largest_cluster_points"
   ]
  },
  {
   "cell_type": "markdown",
   "metadata": {
    "colab_type": "text",
    "id": "qNBILtZ8toKj"
   },
   "source": [
    "Once a maximal connected point list is achieved from a 2 dimensional image, the boundary of the point list is determined; thus, we uses the pixel values of the region within the boundary to get a noise-reduced image. The following methods are implemented to achieve these objects."
   ]
  },
  {
   "cell_type": "code",
   "execution_count": 0,
   "metadata": {
    "colab": {},
    "colab_type": "code",
    "id": "cSPwhp-KtoKj"
   },
   "outputs": [],
   "source": [
    "def rebuild_image(points, old_img, img_size = (100,100)):\n",
    "    \"\"\"rebuild an noise reduced image based on the cordinates of series of max\n",
    "    connected points and old image data\n",
    "    params\n",
    "        points: a series of cordinates of points in a max connected region, list\n",
    "                [(x0, y0),(x1, y1),...]\n",
    "        old_img: old image data, narray (img_size)\n",
    "        img_size: shape of old image and of new image as well\n",
    "    returns\n",
    "        img_target: new image with the same size of old image but noise reduced\n",
    "    \"\"\"\n",
    "    old_img = old_img.reshape(img_size)\n",
    "    img_target = np.zeros_like(old_img)\n",
    "    top, down, left, right = get_bounds(points)\n",
    "    img_target[left:right+1, top:down+1] = old_img[left:right+1, top:down+1]\n",
    "    return img_target\n",
    "\n",
    "\n",
    "def get_bounds(points):\n",
    "    \"\"\"get the boundary limits of a list of point\n",
    "    \"\"\"\n",
    "    top, down, left, right = 100, 0, 100, 0\n",
    "    for x, y in points:\n",
    "        top = y if y <= top else top\n",
    "        down = y if y >= down  else down\n",
    "        left = x if x <= left else left\n",
    "        right = x if x >= right else right\n",
    "    return top, down, left, right"
   ]
  },
  {
   "cell_type": "markdown",
   "metadata": {
    "colab_type": "text",
    "id": "Un3zH1GtsqvL"
   },
   "source": [
    "Therefore, we have all the tools needed to implement a method `reduce_noise` to reduce the noise of the whole image dataset. \n",
    "\n",
    "As reducing noise is a time consuming procedure, we may not want to repeat this procedure every time we load the original image data. The natural way is to save the noise reduced data to hard drive and load it when necessary. \n",
    "\n",
    "Therefore, we built a method to load the data from a file path . if succeeded, we use the data loaded, if not, we perform `reduce_noise` to transform the original data to noise reduced data."
   ]
  },
  {
   "cell_type": "code",
   "execution_count": 0,
   "metadata": {
    "colab": {},
    "colab_type": "code",
    "id": "U37S7KrcsnaQ"
   },
   "outputs": [],
   "source": [
    "def reduce_noise(X, \n",
    "                 img_size = (100, 100),\n",
    "                 max_connected_points_func = find_max_connected_points):\n",
    "    \"\"\"reduce noise of a image dataset\n",
    "    params\n",
    "        X: a image dataset, 2D narray, (sample_size, img_pixels)\n",
    "        img_size: image shape, tuple (heigh, width)\n",
    "        max_connected_points_func: function using to find max connected points\n",
    "    returns:\n",
    "        X_copy: image dataset, shape like X, with noise reduced\n",
    "    \"\"\"\n",
    "    # some function (get_region_size) changes original data as parameters.\n",
    "    X_copy = copy.deepcopy(X)\n",
    "    debug(\"using func: '{}'\".format(\n",
    "        max_connected_points_func.__name__))\n",
    "    since = time.time()\n",
    "    for i, x in enumerate(X_copy):\n",
    "        img = x.reshape(img_size)\n",
    "        points = max_connected_points_func(img, img_size)\n",
    "        img_target = rebuild_image(points, img, img_size)\n",
    "        X_copy[i] = img_target.reshape(-1, )\n",
    "        time_elapsed = time.time() - since\n",
    "        print_progress((i+1)/len(X_copy), time_elapsed)\n",
    "\n",
    "    return X_copy\n",
    "\n",
    "\n",
    "# useful function to load data from local drive\n",
    "def data_from_file(file_path = None, \n",
    "                   description = \"\",\n",
    "                   failed_func = None,\n",
    "                   *args, **kwargs):\n",
    "    \"\"\"load numpy array data from a file path\n",
    "    params\n",
    "        file_path: where the data locates, str\n",
    "        description: brief description of the data, str\n",
    "        failed_func: if loading data failed, the function to executed\n",
    "        *args, **kwargs: parameters of the failed_func\n",
    "    returns\n",
    "        data: loaded or by failed_func. narray\n",
    "    \"\"\"\n",
    "    if file_path is None:\n",
    "        return None\n",
    "    try:\n",
    "        debug(\"loading '{}' from: '{}'... \".format(\n",
    "            description, file_path), end = \"\")\n",
    "        data = np.load(file_path, encoding = 'latin1')\n",
    "        debug(\"successful.\")\n",
    "    except:\n",
    "        debug(\"failed.\\nperforming: '{}'... \".format(\n",
    "            failed_func.__name__), end = \"\")\n",
    "        data = failed_func(*args, **kwargs)\n",
    "        debug(\"successful.\\nsaving data to: '{}'... \".format(\n",
    "            file_path), end = \"\")\n",
    "        np.save(file_path, data)\n",
    "        debug(\"complete.\")\n",
    "    debug(\"shape of '{}': {}\".format(description, data.shape))\n",
    "    return data"
   ]
  },
  {
   "cell_type": "markdown",
   "metadata": {
    "colab_type": "text",
    "id": "UuckeYGn_UCU"
   },
   "source": [
    "Run the following cell to see how the above methods work."
   ]
  },
  {
   "cell_type": "code",
   "execution_count": 0,
   "metadata": {
    "colab": {},
    "colab_type": "code",
    "id": "0sjb7FINtoKl"
   },
   "outputs": [],
   "source": [
    "if SHOW_DEMO:\n",
    "    file_X_noise_reduced = './input/noise_reduced_train_X.npy'\n",
    "    X_noise_reduced = data_from_file(file_X_noise_reduced, \n",
    "                                 \"noise reduced\",\n",
    "                                 reduce_noise,\n",
    "                                 X_original,\n",
    "                                 img_size = (100, 100)\n",
    "                                )"
   ]
  },
  {
   "cell_type": "markdown",
   "metadata": {
    "colab_type": "text",
    "id": "kw5Jzz0c0PY3"
   },
   "source": [
    "This code shows the original and noise reduced forms of an random selected image from a certern image class."
   ]
  },
  {
   "cell_type": "code",
   "execution_count": 0,
   "metadata": {
    "colab": {},
    "colab_type": "code",
    "id": "oOXDQPl7brAZ"
   },
   "outputs": [],
   "source": [
    "if SHOW_DEMO:\n",
    "    show_images([X_noise_reduced, X_original], image_labels, \n",
    "            class_label = \"screwdriver\", label_to_int = label_to_int)"
   ]
  },
  {
   "cell_type": "markdown",
   "metadata": {
    "colab_type": "text",
    "id": "CmM5ajiT0zoz"
   },
   "source": [
    "This code shows the original and noise reduced forms of an image with the id = 5473."
   ]
  },
  {
   "cell_type": "code",
   "execution_count": 0,
   "metadata": {
    "colab": {},
    "colab_type": "code",
    "id": "PBkPXxIqtoKu"
   },
   "outputs": [],
   "source": [
    "if SHOW_DEMO:\n",
    "    show_images([X_noise_reduced, X_original], image_labels, \n",
    "                img_id = 5473, label_to_int = label_to_int)"
   ]
  },
  {
   "cell_type": "markdown",
   "metadata": {
    "colab_type": "text",
    "id": "P5mWBM8GtoK1"
   },
   "source": [
    "### resizing image"
   ]
  },
  {
   "cell_type": "markdown",
   "metadata": {
    "colab_type": "text",
    "id": "WRpcjbkH1CNw"
   },
   "source": [
    "As we can see, an noise reduced image occupies only a small area of a region with 100 × 100 pixels. Brieftly statistics show that most of the noise reduced image are within the size 30 × 30 pixels. \n",
    "\n",
    "Although we can directly feed image with size (100 × 100) to a classifier, it's much better to crop the blank area surrounding the meaningful image and resize it to a small size such as: 30 × 30. \n",
    "\n",
    "This work can be completed by the methods implemented in the following code cell. "
   ]
  },
  {
   "cell_type": "code",
   "execution_count": 0,
   "metadata": {
    "colab": {},
    "colab_type": "code",
    "id": "WgVudJk7toK2"
   },
   "outputs": [],
   "source": [
    "from skimage.util import pad\n",
    "from skimage.transform import resize\n",
    "\n",
    "def crop_img(img):\n",
    "    \"\"\"cut off the black area surrounding non-zero pixels. \n",
    "    params\n",
    "        img: image to be cropeed, 2d narray\n",
    "    returns:\n",
    "        cropped image, 2d narray\n",
    "    \"\"\"\n",
    "    rows = np.any(img, axis=1)\n",
    "    cols = np.any(img, axis=0)\n",
    "    rmin, rmax = np.where(rows)[0][[0, -1]]\n",
    "    cmin, cmax = np.where(cols)[0][[0, -1]]\n",
    "    return img[rmin: rmax + 1, cmin: cmax + 1]\n",
    "\n",
    "def my_resize(img, size = (30, 30)):\n",
    "    \"\"\"resized img will keep its resolution and will be centered if smaller \n",
    "    than original img.\n",
    "    \"\"\"\n",
    "    height, width = img.shape\n",
    "    ratio = max(height / size[0],  width / size[1])\n",
    "    if ratio > 1:\n",
    "        new_size = (int(img.shape[0] / ratio), int(img.shape[1] / ratio))\n",
    "        resized = resize(img, new_size, mode = 'reflect')\n",
    "    else:\n",
    "        resized = img\n",
    "    pad_left = int((size[1] - resized.shape[1])/2)\n",
    "    pad_right = size[1] - pad_left - resized.shape[1]\n",
    "    \n",
    "    pad_top =  int((size[0] - resized.shape[0])/2)\n",
    "    pad_bottom = size[0] - pad_top - resized.shape[0]\n",
    "    pads = ((pad_top, pad_bottom), (pad_left, pad_right))\n",
    "    resized = np.pad(resized, pads, 'constant', constant_values = 0)\n",
    "    return resized\n",
    "\n",
    "def resize_dataset(X, old_size = (100, 100), new_size = (30, 30)):\n",
    "    \"\"\"resize the dataset X, from old_size to new_size\n",
    "    \"\"\"\n",
    "    debug(\"resizing images... \")\n",
    "    n_size = len(X)\n",
    "    resized_X = np.zeros((n_size, new_size[0] * new_size[1]))\n",
    "    since = time.time()\n",
    "    for i, x in enumerate(X):\n",
    "        img = x.reshape(old_size)\n",
    "        img = crop_img(img)\n",
    "        resized_X[i] = my_resize(img, size = new_size).reshape(-1, )\n",
    "        time_elapsed = time.time() - since\n",
    "        print_progress((i+1)/len(X), time_elapsed)\n",
    "    return resized_X"
   ]
  },
  {
   "cell_type": "markdown",
   "metadata": {
    "colab_type": "text",
    "id": "vUCganKW_ehV"
   },
   "source": [
    "Run the following cell to see how the above methods work."
   ]
  },
  {
   "cell_type": "code",
   "execution_count": 0,
   "metadata": {
    "colab": {},
    "colab_type": "code",
    "id": "zh6rZvr_EKxx"
   },
   "outputs": [],
   "source": [
    "if SHOW_DEMO:\n",
    "    file_X_resized = './input/resized_and_noise_reduced_X.npy'\n",
    "    X_resized = data_from_file(file_X_resized, \n",
    "                           \"X_resized\",\n",
    "                           resize_dataset,\n",
    "                           X_noise_reduced,\n",
    "                           old_size = (100, 100),\n",
    "                           new_size = (30, 30)\n",
    "                          )"
   ]
  },
  {
   "cell_type": "markdown",
   "metadata": {
    "colab_type": "text",
    "id": "K_FKZHBt4QN9"
   },
   "source": [
    "The following code shows the original, noise reduced and resized form of an image."
   ]
  },
  {
   "cell_type": "code",
   "execution_count": 0,
   "metadata": {
    "colab": {},
    "colab_type": "code",
    "id": "Jp8FN_KLMMCx"
   },
   "outputs": [],
   "source": [
    "if SHOW_DEMO:\n",
    "    show_images([X_resized, X_noise_reduced, X_original], image_labels)"
   ]
  },
  {
   "cell_type": "markdown",
   "metadata": {
    "colab_type": "text",
    "id": "ACk9xZ2NOlaH"
   },
   "source": [
    "### normalization\n",
    "Normalization is also a good choice for data pre-processing."
   ]
  },
  {
   "cell_type": "code",
   "execution_count": 0,
   "metadata": {
    "colab": {},
    "colab_type": "code",
    "id": "zzdvtOaX8dF7"
   },
   "outputs": [],
   "source": [
    "from sklearn.preprocessing import MinMaxScaler\n",
    "def normalize_dataset(X):\n",
    "    debug(\"normalizing data... \", end=\"\")\n",
    "    minmax = MinMaxScaler()\n",
    "    X_norm = minmax.fit_transform(X)\n",
    "    debug(\"complete.\")\n",
    "    return X_norm"
   ]
  },
  {
   "cell_type": "code",
   "execution_count": 0,
   "metadata": {
    "colab": {},
    "colab_type": "code",
    "id": "CaIY_fiFtoK_"
   },
   "outputs": [],
   "source": [
    "if SHOW_DEMO:\n",
    "    # normalization\n",
    "    use_normalization = True\n",
    "    if use_normalization:\n",
    "        X_normed = normalize_dataset(X_resized)"
   ]
  },
  {
   "cell_type": "code",
   "execution_count": 0,
   "metadata": {
    "colab": {},
    "colab_type": "code",
    "id": "1xKs44l29BGz"
   },
   "outputs": [],
   "source": [
    "if SHOW_DEMO:\n",
    "    #show_images([X_normed, X_resized, X_noise_reduced, ], image_labels)\n",
    "    show_images([X_original, X_noise_reduced, X_resized, X_normed ], image_labels)"
   ]
  },
  {
   "cell_type": "code",
   "execution_count": 0,
   "metadata": {
    "colab": {},
    "colab_type": "code",
    "id": "z266AuBP9GGB"
   },
   "outputs": [],
   "source": [
    "if SHOW_DEMO:\n",
    "    # now X_resized is normalized\n",
    "    X_resized = X_normed"
   ]
  },
  {
   "cell_type": "markdown",
   "metadata": {
    "colab_type": "text",
    "id": "_hS0bSBaKr8X"
   },
   "source": [
    "### merging images and labels"
   ]
  },
  {
   "cell_type": "code",
   "execution_count": 0,
   "metadata": {
    "colab": {},
    "colab_type": "code",
    "id": "jE_onyg27f9l"
   },
   "outputs": [],
   "source": [
    "if SHOW_DEMO:\n",
    "    # merge train_images and labels to one numpy array\n",
    "    # very important varialbe: train_valid_set\n",
    "    file_path = './input/pre_processed_train_data.npy'\n",
    "    train_valid_set = data_from_file(file_path,\n",
    "                          \"train_valid_dataset\",\n",
    "                          np.concatenate,\n",
    "                          (X_resized, image_labels.reshape(-1, 1)),\n",
    "                          axis = 1)"
   ]
  },
  {
   "cell_type": "code",
   "execution_count": 0,
   "metadata": {
    "colab": {},
    "colab_type": "code",
    "id": "4ovf5UsJTc9X"
   },
   "outputs": [],
   "source": [
    "if SHOW_DEMO:\n",
    "    show_images([train_valid_set[:,:-1]], train_valid_set[:, -1])"
   ]
  },
  {
   "cell_type": "markdown",
   "metadata": {
    "colab_type": "text",
    "id": "atv3NzvrlIWD"
   },
   "source": [
    "### washing\n"
   ]
  },
  {
   "cell_type": "markdown",
   "metadata": {
    "colab_type": "text",
    "id": "SsbGEsUvAJO0"
   },
   "source": [
    "Some images are meanless or have no relationship with their class labels. We may drop them. Have a try."
   ]
  },
  {
   "cell_type": "code",
   "execution_count": 0,
   "metadata": {
    "colab": {},
    "colab_type": "code",
    "id": "aDDTCHMeX9m2"
   },
   "outputs": [],
   "source": [
    "def load_bad_sample_ids(): \n",
    "    bad_lists = [None] * 8\n",
    "\n",
    "    # 1. screwdriver peanut and spoon\n",
    "    bad_lists[0] = [42, 186, 285, 483, 541, 612, 627, 851, 1045, 1083, 1212,\n",
    "                    1245, 1438, 1598, 1820, 2199, 2262, 2361, 2517, 2522, 2737,\n",
    "                    2791, 2846, 2873, 3226, 3452, 3571, 3769, 3780, 4176, 4201,\n",
    "                    4642, 4749, 4856, 4913, 4988, 5282, 5337, 5642, 5858, 6029,\n",
    "                    6099, 6378, 6523, 6825, 7129, 7965, 8430, 8645, 8655, 9001,\n",
    "                    9389\n",
    "                   ]\n",
    "    # 2. nail and rabbit\n",
    "    bad_lists[1] = [38, 124, 128, 164, 303, 368, 384, 478, 550, 693, 727, 749,\n",
    "                    757, 932, 1093, 1133, 1205, 1214, 1251, 1388, 1400, 1421,\n",
    "                    1503, 1507, 1661, 1695, 1708, 1778, 1842, 1844, 1853, 1923,\n",
    "                    2042, 2080, 2120, 2130, 2170, 2184, 2461, 2680, 2796, 3133,\n",
    "                    3373, 3379, 3381, 3414, 4148, 4212, 4576, 4763, 4831, 5000,\n",
    "                    5249, 5372, 5447, 5500, 5546, 5967, 6141, 6209, 6283, 6291,\n",
    "                    6299, 6768, 7017, 7037, 7115, 7119, 7279, 7608, 7684, 7883,\n",
    "                    7908, 8033, 8141, 8191, 8236, 8282, 8531, 8648, 8746, 8786,\n",
    "                    8871, 9107, 9218, 9491, 9536, 9651, 9699, 9761, 9957\n",
    "                   ]\n",
    "    # bad_list_2 = []\n",
    "    # 3. panda\n",
    "    bad_lists[2] = [372, 386, 650, 924, 1333, 2865, 3873, 4018, 4049, 4257, \n",
    "                    5229, 5284, 5516, 6300, 7315, 7409, 9712, 9927\n",
    "                   ]\n",
    "    # 4. rifle\n",
    "    bad_lists[3] = [50, 292, 363, 748, 1319, 1382, 1571, 2026, 2764, 3100, 3534,\n",
    "                    3657, 4088, 4092, 4191, 4719, 4789, 4918, 5086, 5162, 5192,\n",
    "                    5404, 5989, 6246, 6502, 7013, 7327, 7349, 7557, 8765, 9445, \n",
    "                    9564, 9846, 9960\n",
    "                   ]\n",
    "    # 5. sink\n",
    "    bad_lists[4] = [2362, 3196, 3410, 4987, 5121, 5604, 6092, 6462, 7341, 9340,\n",
    "                    9817\n",
    "                   ]\n",
    "    # 6. pear\n",
    "    bad_lists[5] = [341, 4608, 5329, 7835, 7841]\n",
    "\n",
    "    # 7. moustache\n",
    "    bad_lists[6] = [474, 658, 1005, 1363, 1539, 1657, 1893, 2258, 2575, 2709,\n",
    "                    2912, 3020, 3184, 3466, 4035, 4504, 4742, 4938, 4961, 4986,\n",
    "                    6024, 6414, 6451, 6677, 7098, 7148, 7235, 7388, 7761, 8476,\n",
    "                    9737, 9855, 9980\n",
    "                   ]\n",
    "    # bad_list_7 = []\n",
    "    # 8. parrot\n",
    "    bad_lists[7] = [1221, 2028, 2167, 2387, 3309, 3517, 4142, 4747, 4821, 5873,\n",
    "                    7154, 7208, 7314, 8569, 8868, 9872\n",
    "                   ]\n",
    "    bad_sample_ids = []\n",
    "    for i in range(8):\n",
    "        bad_sample_ids.extend(bad_lists[i])\n",
    "        \n",
    "    bad_sample_ids = list(set(bad_sample_ids))\n",
    "    debug(\"{} samples to be washed out\".format(len(bad_sample_ids)))\n",
    "    return bad_sample_ids"
   ]
  },
  {
   "cell_type": "code",
   "execution_count": 0,
   "metadata": {
    "colab": {},
    "colab_type": "code",
    "id": "ZA6oE5UZXBlu"
   },
   "outputs": [],
   "source": [
    "# an image with hand written 'pear' labeld 'pear'\n",
    "if SHOW_DEMO:\n",
    "    show_images([X_resized, X_noise_reduced, X_original], image_labels, img_id = 341)"
   ]
  },
  {
   "cell_type": "code",
   "execution_count": 0,
   "metadata": {
    "colab": {},
    "colab_type": "code",
    "id": "FlEkPvusjBtc"
   },
   "outputs": [],
   "source": [
    "# Pay attention to to source (which dataset) of the indices of bad samples\n",
    "def wash_samples(data_set):\n",
    "    \"\"\"\n",
    "    params\n",
    "        bat_sample_ids: [int, int, int, ...]\n",
    "    \"\"\"\n",
    "    bad_sample_ids = load_bad_sample_ids()\n",
    "    data_set_clean = data_set\n",
    "    # if you use original data to remove bad samples. do not\n",
    "    # add your code here\n",
    "    debug(\"washing out bad samples...\", end = \" \")\n",
    "    data_set_clean = np.delete(data_set, bad_sample_ids, axis = 0)\n",
    "    debug(\"complete. current data shape: {}\".format(data_set_clean.shape))\n",
    "    assert data_set.shape[0] - data_set_clean.shape[0] == len(bad_sample_ids),\\\n",
    "        \"data length mismatch before and after removing.\"\n",
    "    \n",
    "    return data_set_clean"
   ]
  },
  {
   "cell_type": "code",
   "execution_count": 35,
   "metadata": {
    "colab": {
     "base_uri": "https://localhost:8080/",
     "height": 54
    },
    "colab_type": "code",
    "executionInfo": {
     "elapsed": 10330,
     "status": "ok",
     "timestamp": 1543704413841,
     "user": {
      "displayName": "Qiang YE",
      "photoUrl": "https://lh6.googleusercontent.com/-k-9mYNphfpc/AAAAAAAAAAI/AAAAAAAAARQ/zyID3sFntfM/s64/photo.jpg",
      "userId": "15200210150486633975"
     },
     "user_tz": 300
    },
    "id": "Fx4hyYZTYD9N",
    "outputId": "282f1729-14ff-4224-b44f-ec088d75de75"
   },
   "outputs": [
    {
     "data": {
      "text/plain": [
       "'\\nfile_path = \\'./input/pre_processed_train_data.npy\\'\\ntrain_valid_set = data_from_file(file_path,\\n                          \"train_valid_dataset\",\\n                          np.concatenate,\\n                          (X_resized, image_labels.reshape(-1, 1)),\\n                          axis = 1)\\n'"
      ]
     },
     "execution_count": 35,
     "metadata": {
      "tags": []
     },
     "output_type": "execute_result"
    }
   ],
   "source": [
    "# using the following code to reload train_valid_set if you wash_samples more than\n",
    "# 2 times\n",
    "'''\n",
    "file_path = './input/pre_processed_train_data.npy'\n",
    "train_valid_set = data_from_file(file_path,\n",
    "                          \"train_valid_dataset\",\n",
    "                          np.concatenate,\n",
    "                          (X_resized, image_labels.reshape(-1, 1)),\n",
    "                          axis = 1)\n",
    "'''"
   ]
  },
  {
   "cell_type": "code",
   "execution_count": 0,
   "metadata": {
    "colab": {},
    "colab_type": "code",
    "id": "r9CxbRPyX-FM"
   },
   "outputs": [],
   "source": [
    "# remove bad samples\n",
    "# ** CAUTION: **\n",
    "# This cell shouldn't be run more than 1 time, cause it may delete\n",
    "# other normal image data or delete a image with the id that donesn't exist。\n",
    "# Rebuild train_valid_set in the last cell if you unfortunately run this cell\n",
    "# twice or more\n",
    "\n",
    "if SHOW_DEMO:\n",
    "    use_bad_samples_removal = True\n",
    "    # add your bad sample ids in this list\n",
    "    if use_bad_samples_removal:\n",
    "        train_valid_set = wash_samples(train_valid_set)"
   ]
  },
  {
   "cell_type": "markdown",
   "metadata": {
    "colab_type": "text",
    "id": "KZoFvQZjBHtq"
   },
   "source": [
    "Run and re-run the following cell to see different images in current dataset\n",
    "\n",
    "It is always recommended to show some images after some operation. "
   ]
  },
  {
   "cell_type": "code",
   "execution_count": 0,
   "metadata": {
    "colab": {},
    "colab_type": "code",
    "id": "2z9vChb9UCt4"
   },
   "outputs": [],
   "source": [
    "if SHOW_DEMO:\n",
    "    show_images([train_valid_set[:,:-1]], train_valid_set[:, -1])"
   ]
  },
  {
   "cell_type": "markdown",
   "metadata": {
    "colab_type": "text",
    "id": "R_rT1FN1QDCH"
   },
   "source": [
    "## 6. Data Augmentation\n",
    "\n",
    "Several augmentation techniques are used in thie problem, which are: rotation, uniformed noising, flipping etc."
   ]
  },
  {
   "cell_type": "markdown",
   "metadata": {
    "colab_type": "text",
    "id": "EnQXhz-ltoLG"
   },
   "source": [
    "### data split"
   ]
  },
  {
   "cell_type": "markdown",
   "metadata": {
    "colab_type": "text",
    "id": "zKN6PWHuBi8I"
   },
   "source": [
    "It's time to split our dataset to **train** and **validate** datasets."
   ]
  },
  {
   "cell_type": "code",
   "execution_count": 0,
   "metadata": {
    "colab": {},
    "colab_type": "code",
    "id": "7AVkEk1klEdW"
   },
   "outputs": [],
   "source": [
    "if SHOW_DEMO:\n",
    "    # change your validate set size here\n",
    "    n_valid_set = 1000\n",
    "\n",
    "    # if you do data augmentation, update data_size    \n",
    "    data_size, n_features = train_valid_set.shape\n",
    "    n_features -= 1 # cut label \n",
    "\n",
    "    valid_start = data_size - n_valid_set # numbers\n",
    "\n",
    "    # split to train_set and valid_set\n",
    "    train_set = train_valid_set[0:valid_start,:]\n",
    "    valid_set = train_valid_set[valid_start:,:]\n",
    "\n",
    "    debug(\"shape of train_set: {}\".format(train_set.shape))\n",
    "    debug(\"shape of valid set: {}\".format(valid_set.shape))\n",
    "    data_size, valid_start, train_end = None, None, None"
   ]
  },
  {
   "cell_type": "markdown",
   "metadata": {
    "colab_type": "text",
    "id": "AKSY1PvZQJcA"
   },
   "source": [
    "### rotation"
   ]
  },
  {
   "cell_type": "code",
   "execution_count": 0,
   "metadata": {
    "colab": {},
    "colab_type": "code",
    "id": "YHP976LmtoK8"
   },
   "outputs": [],
   "source": [
    "from scipy.ndimage import rotate\n",
    "\n",
    "def ds_rotate(data_set, degree = 15, img_size = (30, 30)):\n",
    "    \"\"\"rotate an image dataset with certain degrees with an image size\n",
    "    params\n",
    "        data_set: image dataset with a label, narray (size, n_feature + 1)\n",
    "        degree: int, -360 - 360, usually use -15 - 15\n",
    "        img_size: current and rotated image size\n",
    "    returns\n",
    "        data_set_rotated: narray (size, n_feature + 1), label unchanged        \n",
    "    \"\"\"\n",
    "    data_X = data_set[:, 0:-1]\n",
    "    data_labels = data_set[:, -1]\n",
    "\n",
    "    data_X_rotated = rotate(\n",
    "        data_X.reshape(-1, img_size[0], img_size[1]),\n",
    "        degree, axes = (1,2), reshape = False)\n",
    "    data_X_rotated = data_X_rotated.reshape(\n",
    "        -1, img_size[0] * img_size[1])\n",
    "    data_set_rotated = np.concatenate(\n",
    "        (data_X_rotated, data_labels.reshape(-1, 1)), axis = 1)   \n",
    "    return data_set_rotated\n",
    "\n",
    "def augment_with_rotate(data_set):\n",
    "    \"\"\"tow degrees 15, -15 are used to augment dataset. return the image \n",
    "    rotated dataset, not include the original dataset.\n",
    "    \"\"\"\n",
    "    degrees = np.array([-15, -10, -5, 5, 10, 15])\n",
    "    new_set = None\n",
    "    i, total = 0, len(degrees)\n",
    "    s_before = \"rotating image(special)...\"\n",
    "    since = time.time()\n",
    "    for degree in degrees:\n",
    "        temp_set = ds_rotate(data_set, degree)\n",
    "        if new_set is None:\n",
    "            new_set = temp_set\n",
    "        else:\n",
    "            new_set = np.concatenate((new_set, temp_set), axis = 0)\n",
    "        \n",
    "        i += 1\n",
    "        time_elapsed = time.time() - since\n",
    "        print_progress(i/total, time_elapsed, s_before)\n",
    "\n",
    "    debug(\"complete.\")\n",
    "    return new_set\n",
    "\n",
    "def sub_set_of_class(class_label, data_set):\n",
    "    \"\"\"get a subset from dataset with all samples are of class_label\"\"\"\n",
    "    class_id = label_to_int[class_label]\n",
    "    indices_with_class_id = np.where(data_set[:,-1] == class_id)[0]\n",
    "    return data_set[indices_with_class_id, :]\n",
    "\n",
    "def augment_with_rotate2(data_set):\n",
    "    \"\"\"perform a specific augmente with certain degrees for whole dataset\n",
    "    and some degrees for images with certain labels. return the augmented\n",
    "    dataset(original dataset not included)\"\"\"\n",
    "    s_before = \"rotating image(special)...\"\n",
    "    since = time.time()\n",
    "    degrees = np.array([-15, -10, -5, 5, 10, 15])\n",
    "    special_degrees = [-150, -120, -90, -75, -60, -45, \n",
    "                        150,  120,  90,  75,  60,  45]\n",
    "    special_labels = ['peanut', 'spoon', 'shovel', 'screwdriver', 'squiggle',\n",
    "                      'pencil', 'parrot']\n",
    "    new_set = None\n",
    "    total = len(degrees) + len(special_degrees) * len(special_labels)\n",
    "    i = 0.0\n",
    "    for degree in degrees:\n",
    "        temp_set = ds_rotate(data_set, degree)\n",
    "        if new_set is None:\n",
    "            new_set = temp_set\n",
    "        else:\n",
    "            new_set = np.concatenate((new_set, temp_set), axis = 0)\n",
    "        i += 1\n",
    "        time_elapsed = time.time() - since\n",
    "        print_progress(i/total, time_elapsed, s_before)\n",
    "    #debug(new_set.shape)\n",
    "    \n",
    "    for label in special_labels:\n",
    "        sub_set = sub_set_of_class(label, data_set)\n",
    "        for degree in special_degrees:\n",
    "            temp_set = ds_rotate(sub_set, degree)\n",
    "            new_set = np.concatenate((new_set, temp_set), axis = 0)\n",
    "            i += 1\n",
    "            time_elapsed = time.time() - since\n",
    "            print_progress(i/total, time_elapsed, s_before)\n",
    "    time_elapsed = time.time() - since\n",
    "    print_progress(1, time_elapsed, s_before, ' complete')\n",
    "    print()\n",
    "    #debug(new_set.shape)\n",
    "    return new_set\n",
    "    \n",
    "   "
   ]
  },
  {
   "cell_type": "code",
   "execution_count": 0,
   "metadata": {
    "colab": {},
    "colab_type": "code",
    "id": "c-jpB5x1oK9-"
   },
   "outputs": [],
   "source": [
    "# test for function: sub_set_of_class\n",
    "def _unit_test(train_set):\n",
    "    test_data_set = copy.deepcopy(train_set)\n",
    "    labels = int_to_label.values()#\n",
    "    total_size = 0\n",
    "    n_size, n_feature = test_data_set.shape\n",
    "    for label in labels:\n",
    "        sub_set = sub_set_of_class(label, test_data_set)\n",
    "        sub_size, n_feature = sub_set.shape\n",
    "        n_feature -= 1\n",
    "        total_size += sub_size\n",
    "        assert label_to_int[label] == np.sum(sub_set[:,-1])/sub_size,\\\n",
    "            \"method 'sub_set' may not function well. check codes.\"\n",
    "    assert n_size == total_size, \\\n",
    "        \"total size mismatch, check codes...\"\n",
    "    return True\n",
    "\n",
    "if SHOW_DEMO:\n",
    "    _unit_test(train_set)"
   ]
  },
  {
   "cell_type": "markdown",
   "metadata": {
    "colab_type": "text",
    "id": "ndLyoVrzDRAU"
   },
   "source": [
    "One of the two different rotation strategies is used."
   ]
  },
  {
   "cell_type": "code",
   "execution_count": 0,
   "metadata": {
    "colab": {},
    "colab_type": "code",
    "id": "grkdC-6nWFBb"
   },
   "outputs": [],
   "source": [
    "if SHOW_DEMO:\n",
    "    # run this cell only once\n",
    "    use_augment_with_rotate = True # general rotate\n",
    "    use_augment_with_rotate2 = False\n",
    "    # extra rotate for images with special labels\n",
    "    train_set_rotated = None\n",
    "    if use_augment_with_rotate:\n",
    "        train_set_rotated = augment_with_rotate(train_set)\n",
    "    if use_augment_with_rotate2:\n",
    "        train_set_rotated = augment_with_rotate2(train_set)"
   ]
  },
  {
   "cell_type": "markdown",
   "metadata": {
    "colab_type": "text",
    "id": "eplGynUYDbPM"
   },
   "source": [
    "Run the next cell to see an images rotated and its original image( if use first strategy)"
   ]
  },
  {
   "cell_type": "code",
   "execution_count": 0,
   "metadata": {
    "colab": {},
    "colab_type": "code",
    "id": "YKU58cWWtoLC",
    "scrolled": false
   },
   "outputs": [],
   "source": [
    "if SHOW_DEMO:\n",
    "    if use_augment_with_rotate:\n",
    "        size, _ = train_set_rotated.shape # update size\n",
    "        show_images([train_set[:,:-1], \n",
    "                     train_set_rotated[:int(size/6),:-1],\n",
    "                     train_set_rotated[int(size/6):int(2*size/6),:-1],\n",
    "                     train_set_rotated[int(2*size/6):int(3*size/6),:-1],\n",
    "                     train_set_rotated[int(3*size/6):int(4*size/6),:-1],\n",
    "                     train_set_rotated[int(4*size/6):int(5*size/6),:-1],\n",
    "                     train_set_rotated[int(5*size/6):,:-1],\n",
    "                    ], train_set[:,-1])\n",
    "    if use_augment_with_rotate2:\n",
    "        show_images([train_set_rotated[:,:-1]], train_set_rotated[:,-1])"
   ]
  },
  {
   "cell_type": "markdown",
   "metadata": {
    "colab_type": "text",
    "id": "dawAa-cdtoLL"
   },
   "source": [
    "### uniformly randomized noising"
   ]
  },
  {
   "cell_type": "markdown",
   "metadata": {
    "colab_type": "text",
    "id": "l60HotaLDt-p"
   },
   "source": [
    "Original noises  are reduced, some weak, randomized, uniformd background noises are imported. "
   ]
  },
  {
   "cell_type": "code",
   "execution_count": 0,
   "metadata": {
    "colab": {},
    "colab_type": "code",
    "id": "eEadeOFSZJuO"
   },
   "outputs": [],
   "source": [
    "def augment_with_noise(data_set, use_normalization = True, density_ratio = 0.4):\n",
    "    max_v = 1 if use_normalization else 255\n",
    "    set_noised = np.random.uniform(0, density_ratio * max_v, data_set.shape)\n",
    "    set_noised[:, -1] = 0\n",
    "    set_noised += data_set\n",
    "    max_pixel_v = np.max(set_noised[:,:-1])\n",
    "    # label data not included\n",
    "    set_noised[:,:-1] = set_noised[:,:-1] * max_v / max_pixel_v\n",
    "    #set_noised = np.clip(set_noised, 0, 255)\n",
    "    #data_set_noised = np.concatenate((set_noised, data_set), axis = 0)\n",
    "    debug(\"dataset augmented with noise, \", end = \"\")\n",
    "    debug(\"current data shape: {}\".format(set_noised.shape))\n",
    "    return set_noised"
   ]
  },
  {
   "cell_type": "markdown",
   "metadata": {
    "colab_type": "text",
    "id": "SwJZWclsEHTU"
   },
   "source": [
    "Run the following two cells to see how new noises are like."
   ]
  },
  {
   "cell_type": "code",
   "execution_count": 0,
   "metadata": {
    "colab": {},
    "colab_type": "code",
    "id": "hJNwpNmptoLM"
   },
   "outputs": [],
   "source": [
    "if SHOW_DEMO:\n",
    "    # add uniform noise to train_data\n",
    "    # run this cell only once\n",
    "    use_augment_with_noise = True\n",
    "    train_set_noised = None\n",
    "    if use_augment_with_noise:\n",
    "        train_set_noised = augment_with_noise(train_set)\n",
    "\n",
    "    debug(train_set_noised.shape)"
   ]
  },
  {
   "cell_type": "code",
   "execution_count": 0,
   "metadata": {
    "colab": {},
    "colab_type": "code",
    "id": "QPOp7upobGG4"
   },
   "outputs": [],
   "source": [
    "if SHOW_DEMO:\n",
    "    if use_augment_with_noise:\n",
    "        show_images([train_set[:,:-1], train_set_noised[:,:-1]], train_set[:,-1])"
   ]
  },
  {
   "cell_type": "markdown",
   "metadata": {
    "colab_type": "text",
    "id": "PwZO5rgMsfUG"
   },
   "source": [
    "### flipping"
   ]
  },
  {
   "cell_type": "markdown",
   "metadata": {
    "colab_type": "text",
    "id": "H3WaFI_VEPPu"
   },
   "source": [
    "Flipping images from left to right to get an mirror image of the original one."
   ]
  },
  {
   "cell_type": "code",
   "execution_count": 0,
   "metadata": {
    "colab": {},
    "colab_type": "code",
    "id": "Y0mnpJ8qtoLV"
   },
   "outputs": [],
   "source": [
    "def augment_with_fliplr(data_set, img_size = (30, 30)):\n",
    "    set_flipped = np.zeros(data_set.shape)\n",
    "    set_flipped[:, -1] = data_set[:, -1]\n",
    "    for i in range(len(data_set)):\n",
    "        x = train_set[i,0:-1].reshape(img_size)\n",
    "        set_flipped[i, 0:-1] = np.fliplr(x).reshape(1, -1)\n",
    "    debug(\"dataset augmented with fliplr. \")\n",
    "    #debug(\"current data shape: {}\".format(data_set_flipped.shape))\n",
    "    return set_flipped"
   ]
  },
  {
   "cell_type": "markdown",
   "metadata": {
    "colab_type": "text",
    "id": "tohM0SmcEVTa"
   },
   "source": [
    "Run the following two cells to see how flipping works."
   ]
  },
  {
   "cell_type": "code",
   "execution_count": 0,
   "metadata": {
    "colab": {},
    "colab_type": "code",
    "id": "S6fnHP1SeOT-"
   },
   "outputs": [],
   "source": [
    "if SHOW_DEMO:\n",
    "    # run this cell only once\n",
    "    use_augment_with_fliplr = True\n",
    "    train_set_flipped = None\n",
    "    if use_augment_with_fliplr:\n",
    "        train_set_flipped = augment_with_fliplr(train_set)\n",
    "    "
   ]
  },
  {
   "cell_type": "code",
   "execution_count": 0,
   "metadata": {
    "colab": {},
    "colab_type": "code",
    "id": "yw1KRLgYtoLS"
   },
   "outputs": [],
   "source": [
    "if SHOW_DEMO:\n",
    "    if use_augment_with_fliplr:\n",
    "        show_images([train_set[:,:-1], train_set_flipped[:,:-1]], train_set[:,-1])\n",
    "    \n",
    "#debug(train_set[0:int(train_size/2),-1] == train_set[int(train_size/2):,-1])"
   ]
  },
  {
   "cell_type": "markdown",
   "metadata": {
    "colab_type": "text",
    "id": "Cve5BPwxs5cq"
   },
   "source": [
    "## 7. Models\n",
    "\n",
    "A model base class"
   ]
  },
  {
   "cell_type": "code",
   "execution_count": 0,
   "metadata": {
    "colab": {},
    "colab_type": "code",
    "id": "eU6LjUheOwC6"
   },
   "outputs": [],
   "source": [
    "class MyModule(nn.Module):\n",
    "    def __init__(self, p_fc, p_conv, suffix):\n",
    "        super(MyModule, self).__init__()\n",
    "        self.dropout_p = p_fc\n",
    "        self.dropout_conv_p = p_conv\n",
    "        self.suffix = suffix\n",
    "\n",
    "    def get_name(self, suffix = None):\n",
    "        if suffix is not None:\n",
    "            self.suffix = suffix\n",
    "        name =  type(self).__name__ +  \"_\" + str(self.dropout_p) \n",
    "        name += \"_\" + str(self.dropout_conv_p) + \"_\" + str(suffix)\n",
    "        return name    "
   ]
  },
  {
   "cell_type": "markdown",
   "metadata": {
    "colab_type": "text",
    "id": "yHET5W2Xs_5B"
   },
   "source": [
    "### MLP - weak\n",
    "multi-layer perception works better than LInear SVM. Here a MLP with two hidden layer is built, and it brought us the accuracy around 50 - 60% on this problem. \n",
    "To be better? Let's try convolutional neural network!"
   ]
  },
  {
   "cell_type": "code",
   "execution_count": 0,
   "metadata": {
    "colab": {},
    "colab_type": "code",
    "id": "xrRsm7p3tByc"
   },
   "outputs": [],
   "source": [
    "class MLP(MyModule):\n",
    "    \"\"\"a simple MLP with 2 hidden layers\"\"\"\n",
    "    def __init__(self, p_fc = 0.0, p_conv = 0.0, suffix = \"\"):\n",
    "        super(MLP, self).__init__(p_fc, p_conv, suffix)\n",
    "        self.output = nn.Sequential(\n",
    "            \n",
    "            nn.Linear(900, 512),\n",
    "            nn.ReLU(inplace = True),\n",
    "            nn.BatchNorm1d(512),\n",
    "            nn.Dropout(self.dropout_p),\n",
    "            \n",
    "            nn.Linear(512, 256),\n",
    "            nn.ReLU(inplace = True),\n",
    "            nn.BatchNorm1d(256),\n",
    "            nn.Dropout(p = self.dropout_p),\n",
    "            \n",
    "            nn.Linear(256, n_class), \n",
    "        )\n",
    "        self.suffix = \"\"\n",
    "\n",
    "    def forward(self, x):\n",
    "        x = x.view(x.size(0), -1)\n",
    "        x = self.output(x)\n",
    "        return x\n",
    "   "
   ]
  },
  {
   "cell_type": "markdown",
   "metadata": {
    "colab_type": "text",
    "id": "mUhUF6K_s6rB"
   },
   "source": [
    "### Net5 -  a small competitative Res-CNN\n",
    "\n",
    "This is a small convolutional neural network with 5 convolutional layers with eath followed by a batch normalization layer. One shorcut path added to this network makes it a little like ResNet. 2 max pool subsampling layers are used to reduce the size of each channel. Receiving an input with the shape [size, 1, 30, 30], the network produces a tensor with the shape of [size, 128, 4, 4] after 5 convolutional layers and 2 max pool subsampling operations. Then 2 full connec layers performing linear transformations and a softmax operation are followed to produce a tensor shaped [size, 31], which is what we expect.\n",
    "\n",
    "A `get_name` method is implemented to produce a specific name for the model given some suffix, so that a network is distinguishable when save, load the model from file or make submission files.\n",
    "\n",
    "We name this network `Net5` as it is the fifth edition of CNNs we tried."
   ]
  },
  {
   "cell_type": "code",
   "execution_count": 0,
   "metadata": {
    "colab": {},
    "colab_type": "code",
    "id": "IJ3n78S89ZO5"
   },
   "outputs": [],
   "source": [
    "class Net5(MyModule):\n",
    "    \"\"\"CNN with best result\"\"\"\n",
    "    def __init__(self, channels = [32, 64, 128, 128, 128],\n",
    "                 p_fc = 0.0, p_conv = 0.0, hidden = 1000, suffix = \"\"):\n",
    "        super(Net5, self).__init__(p_fc, p_conv, suffix)   \n",
    "        self.maxpool = nn.MaxPool2d(2, 2)\n",
    "        self.conv1 = nn.Conv2d(1, channels[0], 3, stride = 1, padding = 1)\n",
    "        self.conv1_bn = nn.BatchNorm2d(channels[0])\n",
    "        self.conv2 = nn.Conv2d(channels[0], channels[1], 3, stride = 1,\n",
    "                               padding = 1)\n",
    "        self.conv2_bn = nn.BatchNorm2d(channels[1])\n",
    "        \n",
    "        self.conv3 = nn.Conv2d(channels[1], channels[2], 3)\n",
    "        self.conv3_bn = nn.BatchNorm2d(channels[2])\n",
    "        self.conv4 = nn.Conv2d(channels[2], channels[3], 3)\n",
    "        self.conv4_bn = nn.BatchNorm2d(channels[3])\n",
    "        self.conv5 = nn.Conv2d(channels[3], channels[4], 3)\n",
    "        self.conv5_bn = nn.BatchNorm2d(channels[4])\n",
    "        \n",
    "        self.relu = nn.ReLU(inplace = True)\n",
    "        self.fc1 = nn.Linear(channels[4]*4*4, hidden)\n",
    "        self.fc_drop = nn.Dropout(p = self.dropout_p)\n",
    "        self.fc2 = nn.Linear(hidden, n_class)\n",
    "        \n",
    "        \n",
    "    def forward(self, x):                             # 1    30   30\n",
    "        shortcut = x\n",
    "        x = self.conv1_bn(self.relu(self.conv1(x)))   #31    30   30\n",
    "        x = self.conv2_bn(self.relu(self.conv2(x)))   #64    30   30 \n",
    "\n",
    "        x += shortcut                                 #shortcut\n",
    "        \n",
    "        x = self.conv3_bn(self.relu(self.conv3(x)))   #128   28   28  \n",
    "        x = self.maxpool(x)                           #128   14   14\n",
    "        \n",
    "        x = self.conv4_bn(self.relu(self.conv4(x)))   #128   12   12         \n",
    "        x = self.maxpool(x)                           #128    6    6 \n",
    "        \n",
    "        x = self.conv5_bn(self.relu(self.conv5(x)))   #128    4    4\n",
    "            \n",
    "        x = x.view(x.size(0), -1) # batch, 128\n",
    "        x = self.fc_drop(x)\n",
    "        x = self.fc1(x)\n",
    "        x = self.fc2(x)\n",
    "        return x\n",
    "   "
   ]
  },
  {
   "cell_type": "markdown",
   "metadata": {
    "colab_type": "text",
    "id": "oZqgX_Mu9chi"
   },
   "source": [
    "### MyResNet - works but not well tuned\n",
    "\n",
    "The idea of this ResNet comes from ResNet18 receiving 3 original channels which is not directly applicable to our problem, we therefore built a similar ResNet and called it `MyResNet`. Different from the implementation of ResNet18,  changing the value of padding is used to keep or reduce the size of each channel whereas ResNet18 in torchvision uses stride.\n",
    "\n",
    "This network works yet is not well tuned. We stopped tuning and training  this network at the accuracy about 60%. "
   ]
  },
  {
   "cell_type": "code",
   "execution_count": 0,
   "metadata": {
    "colab": {},
    "colab_type": "code",
    "id": "oGWfHEzvtoLl"
   },
   "outputs": [],
   "source": [
    "# a little ResNet similar to ResNet18 in torchvision, \n",
    "# semms easy to overfit data\n",
    "class MyBlock(nn.Module):\n",
    "    expansion = 1\n",
    "    def __init__(self, inplanes, planes, padding = 1, drop_out = 0.5,\n",
    "                 downsample = None):\n",
    "        # if padding = 0, width/height will reduce 2 after first conv\n",
    "        super(MyBlock, self).__init__()\n",
    "        self.conv1 = nn.Conv2d(inplanes, planes, 3, stride=1, padding = padding)\n",
    "        self.bn1 = nn.BatchNorm2d(planes)\n",
    "        self.relu = nn.ReLU(inplace=True)\n",
    "        self.conv2 = nn.Conv2d(planes, planes, 3, stride = 1, padding = 1)\n",
    "        self.bn2 = nn.BatchNorm2d(planes)\n",
    "        self.downsample = downsample\n",
    "        self.padding = padding\n",
    "        self.dropout = nn.Dropout2d(p = drop_out)\n",
    "        \n",
    "    def forward(self, x):\n",
    "        residual = x\n",
    "        out = self.conv1(x)\n",
    "        out = self.dropout(self.bn1(out))\n",
    "        out = self.relu(out)\n",
    "        out = self.conv2(out)\n",
    "        out = self.dropout(self.bn2(out))\n",
    "        if self.downsample is not None:\n",
    "            residual = self.downsample(x)\n",
    "\n",
    "        out += residual\n",
    "        out = self.relu(out)\n",
    "        return out    \n",
    "    \n",
    "    \n",
    "class MyResNet(MyModule):\n",
    "    def __init__(self, block, layers, channels, p_fc = 0, p_conv = 0,\n",
    "                 n_class = 31, suffix = \"\"):\n",
    "        super(MyResNet, self).__init__(p_fc, p_conv, suffix)\n",
    "        self.inplanes = channels[0]\n",
    "        self.layer0 = nn.Sequential(\n",
    "            nn.Conv2d(1, channels[0], 3, stride = 1, padding = 0, bias = False),\n",
    "            nn.BatchNorm2d(channels[0]),\n",
    "            nn.ReLU(inplace = True),\n",
    "            # nn.MaxPool2d(2, 2)\n",
    "        )\n",
    "        \n",
    "        self.relu = nn.ReLU(inplace = True)\n",
    "        self.maxpool = nn.MaxPool2d(2, 2)\n",
    "        \n",
    "        self.layer1 = self._make_layer(block,channels[1],layers[0], padding=1)\n",
    "        self.layer2 = self._make_layer(block,channels[2],layers[1], padding=0)\n",
    "        self.layer3 = self._make_layer(block,channels[3],layers[2], padding=1)\n",
    "        self.layer4 = self._make_layer(block,channels[4],layers[3], padding=1)\n",
    "\n",
    "        #self.fc = nn.Linear(1*channels[4]*block.expansion, n_class)\n",
    "        self.conv5 = nn.Conv2d(channels[4], n_class, 1, 1, padding = 0)\n",
    "        for m in self.modules():\n",
    "            if isinstance(m, nn.Conv2d):\n",
    "                nn.init.kaiming_normal_(m.weight, mode='fan_out', \n",
    "                                        nonlinearity='relu')\n",
    "            elif isinstance(m, nn.BatchNorm2d):\n",
    "                nn.init.constant_(m.weight, 1)\n",
    "                nn.init.constant_(m.bias, 0)\n",
    "        self.suffix = \"\"\n",
    "        \n",
    "        \n",
    "    def forward(self, x):                           # 1     30    30\n",
    "        x = self.layer0(x)                  # channels[0]   28    28\n",
    "        x = self.layer1(x)                  # channels[1]   28    28\n",
    "        x = self.maxpool(x)                 # channels[1]   14    14\n",
    "        x = self.layer2(x)                  # channels[2]   12    12\n",
    "        x = self.maxpool(x)                 # channels[2]    6     6\n",
    "        x = self.layer3(x)                  # channels[3]    6     6\n",
    "        x = self.maxpool(x)                 # channels[3]    3     3\n",
    "        x = self.layer4(x)                  # channels[4]    3     3\n",
    "        #x = self.maxpool(x)                # channels[4]    _     _\n",
    "        x = self.conv5(x)                   # n_class        1     1\n",
    "        x = x.view(x.size(0), -1)\n",
    "        #x = self.fc(x)\n",
    "        return x\n",
    "    \n",
    "    \n",
    "    def _make_layer(self, block, planes, blocks, padding = 1):\n",
    "        # using padding to downsample. is padding == 0, size will reduce\n",
    "        # if padding == 1, size keeps same (given stride = 1, kernel_size = 3)\n",
    "        downsample = None\n",
    "        if padding != 1 or self.inplanes != planes * block.expansion:\n",
    "            # channel numbers or the width*height will change\n",
    "            downsample = nn.Sequential(\n",
    "                nn.Conv2d(self.inplanes, planes*block.expansion, 3, 1, padding),\n",
    "                nn.BatchNorm2d(planes * block.expansion),\n",
    "                nn.Dropout2d(self.dropout_conv_p)\n",
    "            )\n",
    "\n",
    "        layers = []\n",
    "        layers.append(block(self.inplanes, planes, padding, self.dropout_conv_p,\n",
    "                            downsample))\n",
    "        self.inplanes = planes * block.expansion\n",
    "        for _ in range(1, blocks):\n",
    "            layers.append(block(self.inplanes, planes))\n",
    "\n",
    "        return nn.Sequential(*layers) \n",
    "    \n"
   ]
  },
  {
   "cell_type": "markdown",
   "metadata": {
    "colab_type": "text",
    "id": "afWZGqolF9jv"
   },
   "source": [
    "### Net6"
   ]
  },
  {
   "cell_type": "code",
   "execution_count": 0,
   "metadata": {
    "colab": {},
    "colab_type": "code",
    "id": "wbObT_c6F8ZD"
   },
   "outputs": [],
   "source": [
    "class Net6(MyModule):\n",
    "    \"\"\"equal to Net5, a little faster\"\"\"\n",
    "    def __init__(self, \n",
    "                 channels,#= [32, 64, 128, 256, 512], \n",
    "                 p_fc = 0.0, \n",
    "                 p_conv = 0.0, \n",
    "                 n_class = 31,\n",
    "                 suffix = \"\"):\n",
    "        super(Net6, self).__init__(p_fc, p_conv, suffix)\n",
    "        self.suffix = \"\"\n",
    "        self.dropout_fc_p = p_fc\n",
    "        self.dropout_conv_p = p_conv\n",
    "        #self.dropout_conv = nn.Dropout2d(p = self.dropout_conv_p)\n",
    "        \n",
    "        self.layer1 = nn.Sequential( # keep size of each channel\n",
    "            nn.Conv2d(1, channels[0], 3, stride = 1, padding = 1),\n",
    "            nn.ReLU(inplace = True),\n",
    "            nn.BatchNorm2d(channels[0]),\n",
    "            nn.Conv2d(channels[0], channels[1], 3, stride = 1, padding = 1),\n",
    "            nn.ReLU(inplace = True),\n",
    "            nn.BatchNorm2d(channels[1]),                      # 30\n",
    "            nn.Dropout2d(p = self.dropout_conv_p)\n",
    "        )\n",
    "        self.layer2 = nn.Sequential( # reduce size to: (old_size - 2) / 2\n",
    "            nn.Conv2d(channels[1], channels[2], 3),                  # 28\n",
    "            nn.ReLU(inplace = True),\n",
    "            nn.BatchNorm2d(channels[2]),\n",
    "            nn.MaxPool2d(2, 2),                     # 14\n",
    "            nn.Dropout2d(p = self.dropout_conv_p)\n",
    "        )\n",
    "        self.layer3 = nn.Sequential( # reduce size to: (old_size - 2) / 2\n",
    "            nn.Conv2d(channels[2], channels[3], 3),                 # 12\n",
    "            nn.ReLU(inplace = True),\n",
    "            nn.BatchNorm2d(channels[3]),\n",
    "            nn.MaxPool2d(2, 2),                     #  6\n",
    "            nn.Dropout2d(p = self.dropout_conv_p)\n",
    "        )\n",
    "        self.layer4 = nn.Sequential( # reduce size to: (old_size - 2)\n",
    "            nn.Conv2d(channels[3], channels[4], 3, stride = 1, padding = 0),#  4\n",
    "            nn.ReLU(inplace = True),\n",
    "            nn.BatchNorm2d(channels[4]),\n",
    "            nn.MaxPool2d(2, 2),                      #  2\n",
    "            nn.Dropout2d(p = self.dropout_conv_p)\n",
    "        )\n",
    "     \n",
    "        #self.conv5 = nn.Conv2d(channels[4], n_class, 3)     #  1\n",
    "        self.fc_layer = nn.Sequential(\n",
    "            nn.Dropout(self.dropout_fc_p),\n",
    "            nn.Linear(channels[4]*2*2, n_class)\n",
    "            #nn.Dropout(dr)\n",
    "            #nn.Linear(1000, n_class)\n",
    "        )\n",
    "\n",
    "        \n",
    "    def forward(self, x):\n",
    "        shortcut = x\n",
    "        x = self.layer1(x)\n",
    "        x += shortcut\n",
    "        x = self.layer2(x)\n",
    "        x = self.layer3(x)\n",
    "        x = self.layer4(x)\n",
    "        #x = self.conv5(x)\n",
    "        x = x.view(x.size(0), -1)\n",
    "        x = self.fc_layer(x)\n",
    "        return x\n",
    "   "
   ]
  },
  {
   "cell_type": "markdown",
   "metadata": {
    "colab_type": "text",
    "id": "19gKYbGTtoLo"
   },
   "source": [
    "## 9. Preparation for Training Competitative Models"
   ]
  },
  {
   "cell_type": "markdown",
   "metadata": {
    "colab_type": "text",
    "id": "lBgJvZt99_Rs"
   },
   "source": [
    "### merge dataset"
   ]
  },
  {
   "cell_type": "code",
   "execution_count": 0,
   "metadata": {
    "colab": {},
    "colab_type": "code",
    "id": "7GEcsD4Ohzga"
   },
   "outputs": [],
   "source": [
    "if SHOW_DEMO:\n",
    "    # Merge train_set(data augmented) and valid_set for data loader\n",
    "    # Here the train_set may be augmented\n",
    "    if use_augment_with_rotate:\n",
    "        train_set = np.concatenate((train_set, train_set_noised), axis = 0)\n",
    "    if use_augment_with_rotate or use_augment_with_rotate2:\n",
    "        train_set = np.concatenate((train_set, train_set_rotated), axis = 0)\n",
    "    if use_augment_with_fliplr:\n",
    "        train_set = np.concatenate((train_set, train_set_flipped), axis = 0)\n",
    "\n",
    "    train_valid_set = np.concatenate((train_set, valid_set), axis = 0)\n",
    "    debug(train_valid_set.shape)"
   ]
  },
  {
   "cell_type": "code",
   "execution_count": 0,
   "metadata": {
    "colab": {},
    "colab_type": "code",
    "id": "lwyKxIfz8gD9"
   },
   "outputs": [],
   "source": [
    "if SHOW_DEMO:\n",
    "    show_images([train_valid_set[:,:-1]], train_valid_set[:,-1], \n",
    "            class_label = 'squiggle', label_to_int = label_to_int)"
   ]
  },
  {
   "cell_type": "markdown",
   "metadata": {
    "colab_type": "text",
    "id": "FjaNXELDtoLX"
   },
   "source": [
    "### method: dataloader\n",
    "\n",
    "Dataset is divided into several bathc-sized subset by the dataloader. The method supports both training/validating phase and test one. For training and validating, it receives a dataset with shape similar to [total_size, n_feature + 1], and yields a tuple `(X, y)` with both bath-sized, When used for testing, it receives dataset shaped [total_size, n_feature] and yields only `X` as test dataset has not labels."
   ]
  },
  {
   "cell_type": "code",
   "execution_count": 56,
   "metadata": {
    "colab": {
     "base_uri": "https://localhost:8080/",
     "height": 34
    },
    "colab_type": "code",
    "executionInfo": {
     "elapsed": 11359,
     "status": "ok",
     "timestamp": 1543704415059,
     "user": {
      "displayName": "Qiang YE",
      "photoUrl": "https://lh6.googleusercontent.com/-k-9mYNphfpc/AAAAAAAAAAI/AAAAAAAAARQ/zyID3sFntfM/s64/photo.jpg",
      "userId": "15200210150486633975"
     },
     "user_tz": 300
    },
    "id": "L1KGq_z0toLb",
    "outputId": "3f8b2542-5421-40a7-f51f-040f470fbd42"
   },
   "outputs": [
    {
     "name": "stdout",
     "output_type": "stream",
     "text": [
      "<function dataloader at 0x7f14bbfd4840>\n"
     ]
    }
   ],
   "source": [
    "def dataloader(phase, data_source, \n",
    "               n_valid_sample = 1000, \n",
    "               batch_size = 128, \n",
    "               img_size = (30, 30)):\n",
    "    \"\"\"feed data to a training process with batch_size from a dataset\n",
    "    params\n",
    "        phase: decide whether the model is in 'train', 'val' or 'test'\n",
    "        data_source: dataset np.array (sample_size, n_features)\n",
    "        n_valid_sample: sample numbers for validating, int\n",
    "        batch_size: int\n",
    "        img_size: tuple, default (30, 30)\n",
    "    return Iterable()\n",
    "    \"\"\"\n",
    "    \n",
    "    class Iterable(object):\n",
    "        def __iter__(self):\n",
    "            \n",
    "            train_end = len(data_source) - n_valid_sample\n",
    "            # use image size to compute number of features, some data_source may\n",
    "            # not have the label(last column)\n",
    "            n_feature = img_size[0] * img_size[1]\n",
    "            \n",
    "            if phase == 'train':\n",
    "                data = data_source[ : train_end, :]\n",
    "                #np.random.shuffle(data) # shuffle in subset\n",
    "            elif phase == 'val':\n",
    "                data = data_source[train_end : , :]\n",
    "            else: # test dataset, no label column\n",
    "                data = data_source\n",
    "            \n",
    "            inputs = data[:,:n_feature]\n",
    "            if phase in ['train', 'val']: # have labels\n",
    "                labels = data[:, -1]\n",
    "            \n",
    "            sample_size = inputs.shape[0]\n",
    "            batches = int(np.ceil(sample_size / batch_size))\n",
    "            #debug(batches)\n",
    "            for j in range(batches):\n",
    "                #debug(\"{} in dataloader\".format(j))\n",
    "                b_start = j * batch_size\n",
    "                b_end = min(sample_size, (j + 1) * batch_size)\n",
    "                \n",
    "                batch_inputs = inputs[b_start:b_end, :]\n",
    "                batch_inputs = torch.from_numpy(batch_inputs)\n",
    "                batch_inputs = torch.unsqueeze(batch_inputs.view(\n",
    "                    b_end-b_start, img_size[0], img_size[1]), dim = 1)\n",
    "                \n",
    "                if phase in ['train', 'val']:\n",
    "                    batch_labels = labels[b_start:b_end]\n",
    "                    batch_labels = torch.from_numpy(batch_labels)\n",
    "                    batch_labels = batch_labels.type(torch.LongTensor)\n",
    "                    yield batch_inputs, batch_labels\n",
    "                else:\n",
    "                    yield batch_inputs\n",
    "    return Iterable()\n",
    "\n",
    "debug(dataloader)"
   ]
  },
  {
   "cell_type": "markdown",
   "metadata": {
    "colab_type": "text",
    "id": "Q5CYn64ORdsw"
   },
   "source": [
    "### method: show_learning_curve"
   ]
  },
  {
   "cell_type": "code",
   "execution_count": 0,
   "metadata": {
    "colab": {},
    "colab_type": "code",
    "id": "9E2wmzLatoLo"
   },
   "outputs": [],
   "source": [
    "def show_learning_curve(losses, accuracies):\n",
    "    support = np.arange(len(losses['train']))\n",
    "    plt.figure(figsize = (14, 6))\n",
    "    plt.grid(True) # add a grid\n",
    "\n",
    "    plt.subplot(1,2,1)\n",
    "    plt.plot(support, losses['train'], 'g-', label = 'train')\n",
    "    plt.plot(support, losses['val'], 'b-', label = 'val')\n",
    "    plt.xlabel('epochs')\n",
    "    plt.ylabel('losses')\n",
    "    plt.title(\"Loss curves\")\n",
    "    plt.legend(loc='upper right')\n",
    "    \n",
    "    plt.subplot(1,2,2)\n",
    "    plt.plot(support, accuracies['train'], 'g-', label = 'train' )\n",
    "    plt.plot(support, accuracies['val'], 'b-', label = 'val')\n",
    "    plt.xlabel('epochs')\n",
    "    plt.ylabel('accuracy')\n",
    "    plt.title(\"Accuracy curves\")\n",
    "    plt.legend(loc='lower right')\n",
    "    plt.show()\n",
    "    \n",
    "    \n"
   ]
  },
  {
   "cell_type": "markdown",
   "metadata": {
    "colab_type": "text",
    "id": "80-N0qLCRiAp"
   },
   "source": [
    "### method: load_model (from file)\n",
    "\n",
    "As training a model is a time-consuming work, sometimes we have to stop training but want the parameters saved so that we may continue our training later. Method `load_model` helps us finish this kind of work."
   ]
  },
  {
   "cell_type": "code",
   "execution_count": 0,
   "metadata": {
    "colab": {},
    "colab_type": "code",
    "id": "dmkILaXdtoLt",
    "scrolled": true
   },
   "outputs": [],
   "source": [
    "def load_model(model, \n",
    "               best_model_path = None, \n",
    "               auto_save_path = None,\n",
    "               best_model_first = False,\n",
    "               ext = \"\",\n",
    "              ):\n",
    "    \"\"\"load a pre-trained model from a file path\n",
    "    params\n",
    "        model: model, nn.Module\n",
    "        laod_best_model_first: Bool, if True, try first to load the model with\n",
    "            parameters has best performance on validating set\n",
    "        best_model_path: str\n",
    "        auto_save_path: str\n",
    "    return\n",
    "        model: with pre_trained parameters loaded, if failed to load either\n",
    "            parameters, return the model as it was.\n",
    "    \"\"\"\n",
    "\n",
    "    if best_model_path is None:\n",
    "        best_model_path = './models/best_model_' + model.get_name(ext)\n",
    "    if auto_save_path is None:\n",
    "        auto_save_path = './models/auto_save_' + model.get_name(ext)\n",
    "    \n",
    "    file_paths = [auto_save_path, best_model_path]\n",
    "    if best_model_first:\n",
    "        file_paths = [best_model_path, auto_save_path]\n",
    "\n",
    "    try:\n",
    "        debug(\"loading model from: '{}'... \".format(file_paths[0]), end=\" \")\n",
    "        model.load_state_dict(torch.load(file_paths[0]))\n",
    "        debug(\"successful.\")\n",
    "    except:\n",
    "        try:\n",
    "            debug(\"failure.\")\n",
    "            debug(\"loading model from: '{}'... \".format(file_paths[1]), \n",
    "                  end = \" \")\n",
    "            model.load_state_dict(torch.load(file_paths[1]))\n",
    "            debug(\"successful\")\n",
    "        except:\n",
    "            debug(\"failed.\\nusing new model parameters.\")\n",
    "\n",
    "    model = model.to(device)\n",
    "    return model"
   ]
  },
  {
   "cell_type": "markdown",
   "metadata": {
    "colab_type": "text",
    "id": "wDRjhirFRS2u"
   },
   "source": [
    "### method: train_model (core)\n",
    "\n",
    "This is our key method where parameters of models are updated."
   ]
  },
  {
   "cell_type": "code",
   "execution_count": 59,
   "metadata": {
    "colab": {
     "base_uri": "https://localhost:8080/",
     "height": 34
    },
    "colab_type": "code",
    "executionInfo": {
     "elapsed": 11690,
     "status": "ok",
     "timestamp": 1543704415432,
     "user": {
      "displayName": "Qiang YE",
      "photoUrl": "https://lh6.googleusercontent.com/-k-9mYNphfpc/AAAAAAAAAAI/AAAAAAAAARQ/zyID3sFntfM/s64/photo.jpg",
      "userId": "15200210150486633975"
     },
     "user_tz": 300
    },
    "id": "j9gcF38BtoLh",
    "outputId": "a807c7de-c869-4fa9-d10b-3a1381d75d4d"
   },
   "outputs": [
    {
     "name": "stdout",
     "output_type": "stream",
     "text": [
      "<function train_model at 0x7f14bbd36f28>\n"
     ]
    }
   ],
   "source": [
    "def train_model(model, \n",
    "                train_valid_set,\n",
    "                criterion, \n",
    "                optimizer, \n",
    "                n_valid_sample,\n",
    "                scheduler = None, \n",
    "                auto_save_path = './models/auto_save.model',\n",
    "                best_model_path = './models/best_model_',\n",
    "                max_epochs = 20, \n",
    "                early_stopping = False, \n",
    "                epoch_patience = 5,\n",
    "                auto_load_best_after_train = True,\n",
    "                auto_save_interval = 1,\n",
    "                batch_size = 128,\n",
    "                show_live_progress = False\n",
    "                ):\n",
    "    \"\"\"train a model\n",
    "    params\n",
    "        model: to be trained, nn.Module\n",
    "        train_valid_set: merge of training and validating set\n",
    "        optimizer: optimizer\n",
    "        n_valid_sample: number of validating samples\n",
    "        scheduler: learning rate scheduler\n",
    "        auto_save_path: path where latest model will be auto saved\n",
    "        best_model_path: path where best model will be saved\n",
    "        max_epochs: max epochs, int\n",
    "        early_stopping: if trainint will stop earlier, according to accuracy on \n",
    "            validating dataset, Bool\n",
    "        epoch_patience: if accuracy on validate set decreases, we don't stop\n",
    "            at the epoch, we need to go extra epoch_patience number of epoch\n",
    "            to confirm this decreasing trends, int\n",
    "        auto_load_best_after_train: whether we load our best model paramters\n",
    "            after the training process is complete, Bool\n",
    "        auto_save_interval: the interval we auto save the parameters of the \n",
    "            model, int\n",
    "        batch_size: batch_size, int      \n",
    "    returns\n",
    "        model: trained, nn.Module\n",
    "        losses: losses during training and validating, \n",
    "            dict {\"train\", [double], 'val': [double]}\n",
    "        accuracies: accuracies during training and validating, \n",
    "            dict {\"train\", [double], 'val': [double]}\n",
    "        cache: a cache dict {'best_model_wts':best_model_wts,\n",
    "                             'best_acc_val':best_acc_val,\n",
    "                             'optimizer':optimizer,\n",
    "                             'model':model\n",
    "                            }\n",
    "    \"\"\"\n",
    "    if train_valid_set is None:    # no data to train\n",
    "        return model\n",
    "    \n",
    "    start = time.time()\n",
    "    dataset_sizes = {\n",
    "        'train': len(train_valid_set) - n_valid_sample,\n",
    "        'val': n_valid_sample\n",
    "    }\n",
    "    \n",
    "    dataloaders = {\n",
    "        'train':dataloader('train', \n",
    "                           data_source = train_valid_set, \n",
    "                           n_valid_sample = n_valid_sample,\n",
    "                           batch_size = batch_size, \n",
    "                           img_size = NEW_IMG_SIZE), \n",
    "        'val':dataloader('val', \n",
    "                         data_source = train_valid_set,\n",
    "                         n_valid_sample = n_valid_sample,\n",
    "                         batch_size = batch_size, \n",
    "                         img_size = NEW_IMG_SIZE)\n",
    "    }\n",
    "    \n",
    "    best_model_wts = copy.deepcopy(model.state_dict())  # for best parameters\n",
    "    best_acc = {'train':0.0, 'val':0.0}                 # best accuracy\n",
    "    \n",
    "    losses = {'train': [], 'val':[]}\n",
    "    accuracies = {'train': [], 'val':[]}\n",
    "    patience_used = 0                                   # patience used\n",
    "    early_stopped = 0\n",
    "    debug(\"'s': auto saved, '*': best accuracy so far.\")\n",
    "    \n",
    "    for epoch in range(max_epochs):\n",
    "        since = time.time()\n",
    "        \n",
    "        # s_before and s_after are for print trainig progress\n",
    "        s_before = '[Epoch{:>3d}/{} '.format(epoch, max_epochs - 1)\n",
    "        s_after = ']'\n",
    "        if show_live_progress:\n",
    "            print_progress(0, 0, s_before, s_after)\n",
    "        else:\n",
    "            print(s_before + s_after, end = \"\")\n",
    "\n",
    "        # Each epoch has a training and validation phase\n",
    "        for phase in ['train', 'val']:\n",
    "            since_phase = time.time()\n",
    "            if phase == 'train':\n",
    "                if scheduler is not None:\n",
    "                    scheduler.step()\n",
    "                model.train()  # Set model to training mode\n",
    "            else:\n",
    "                model.eval()   # Set model to evaluate mode\n",
    "\n",
    "            running_loss = 0.0\n",
    "            running_corrects = 0\n",
    "            running_size = 0\n",
    "            if show_live_progress:\n",
    "                print_progress(0, 0, s_before, s_after)\n",
    "            \n",
    "            # Iterate over data.\n",
    "            for inputs, labels in dataloaders[phase]:\n",
    "                inputs = inputs.to(device)\n",
    "                labels = labels.to(device)\n",
    "                # zero the parameter gradients\n",
    "                optimizer.zero_grad()\n",
    "                # forward\n",
    "                # track history if only in train\n",
    "                with torch.set_grad_enabled(phase == 'train'):\n",
    "                    outputs = model(inputs)\n",
    "                    _, preds = torch.max(outputs, dim = 1)\n",
    "                    loss = criterion(outputs, labels)\n",
    "\n",
    "                    # backward + optimize only if in training phase\n",
    "                    if phase == 'train':\n",
    "                        loss.backward()\n",
    "                        optimizer.step()\n",
    "\n",
    "                # accumulate loss and correctly predicted sample number\n",
    "                running_loss += loss.item() * inputs.size(0)\n",
    "                running_corrects += torch.sum(preds.data == labels.data).item()\n",
    "                running_size += preds.size(0)\n",
    "                \n",
    "                if show_live_progress:\n",
    "                    time_elapsed = time.time() - since_phase\n",
    "                    print_progress(running_size/dataset_sizes[phase], \n",
    "                                   time_elapsed, \n",
    "                                   s_before, \n",
    "                                   s_after)\n",
    "                    already_show_estimated_time = True\n",
    "                # end batches loop\n",
    "                \n",
    "            # compute average loss and accuracy after a traing or validate phase\n",
    "            epoch_loss = running_loss / dataset_sizes[phase]\n",
    "            epoch_acc = running_corrects / dataset_sizes[phase]\n",
    "            \n",
    "            # keep current loss and accuracy data\n",
    "            losses[phase].append(epoch_loss)\n",
    "            accuracies[phase].append(epoch_acc)\n",
    "            \n",
    "            time_elapsed = time.time() - since_phase\n",
    "            s_after += ' {} loss: {:.4f} acc: {:<7.2%} '.format(\n",
    "                phase, epoch_loss, epoch_acc)\n",
    "            \n",
    "\n",
    "            # check current parameters achieved best performance so far\n",
    "            # if YES, keep a reference to the best parameters.\n",
    "            if epoch_acc > best_acc[phase]:\n",
    "                best_acc[phase] = epoch_acc\n",
    "                if phase == 'val':\n",
    "                    s_after += \" *\"\n",
    "                    best_model_wts = copy.deepcopy(model.state_dict())\n",
    "                    patience_used = 0\n",
    "            else:\n",
    "                if phase == 'val': # avoid repeating check for both training\n",
    "                                   # and validating phase\n",
    "                    patience_used += 1 # \n",
    "                    if early_stopping and patience_used >= epoch_patience:\n",
    "                        # patience is used up\n",
    "                        early_stopped = epoch - epoch_patience\n",
    "                        \n",
    "            if show_live_progress:\n",
    "                print_progress(running_size/dataset_sizes[phase], \n",
    "                               time_elapsed, s_before, s_after)\n",
    "            else:\n",
    "                print(' {} loss: {:.4f} acc: {:<7.2%} '.format(\n",
    "                    phase, epoch_loss, epoch_acc), end = \" \")                        \n",
    "            #end phase loop\n",
    "    \n",
    "        time_elapsed = time.time() - since\n",
    "        if show_live_progress:\n",
    "            print_progress(1, time_elapsed, s_before, s_after)\n",
    "        else:\n",
    "            print(' {:.0f}m{:.0f}s'.format(\n",
    "                time_elapsed // 60, time_elapsed % 60), end = \"\")\n",
    "        # display some information\n",
    "        #if epoch_acc == best_acc['val']:\n",
    "        #    print(\"*\", end=\"\")\n",
    "        #else:\n",
    "        #    print(\"\", end=\"\")\n",
    "        if early_stopped or epoch == (max_epochs - 1) or \\\n",
    "           (epoch + 1) % auto_save_interval == 0:\n",
    "\n",
    "            torch.save(model.state_dict(), auto_save_path)\n",
    "            torch.save(best_model_wts, best_model_path)\n",
    "            print(\" s\") # saved\n",
    "        else:\n",
    "            print(\"\") # new line\n",
    "\n",
    "        if early_stopped > 0:\n",
    "            print(\"Early stop at epoch: {}\".format(early_stopped))\n",
    "            break\n",
    "        #end epoch loop \n",
    "    \n",
    "    \n",
    "    time_elapsed = time.time() - start\n",
    "    print('Training complete in {:.0f}m {:.0f}s'.format(\n",
    "            time_elapsed // 60, time_elapsed % 60))\n",
    "        \n",
    "    print('Best val Acc on val:   {:.2%}'.format(best_acc['val']))\n",
    "    print('Best val Acc on train: {:.2%}'.format(best_acc['train']))\n",
    "    # load best model weights\n",
    "    \n",
    "    if auto_load_best_after_train:\n",
    "        model.load_state_dict(best_model_wts)\n",
    "        \n",
    "    train_info = {\n",
    "        \"best_acc_train\": best_acc[\"train\"],\n",
    "        \"best_acc_val\": best_acc[\"val\"],\n",
    "        \"time_elapsed\": time_elapsed,\n",
    "        \"early_stopped\": early_stopped,\n",
    "        \"epoch_passed\": epoch + 1\n",
    "    }\n",
    "    return model, losses, accuracies, train_info\n",
    "\n",
    "debug(train_model)"
   ]
  },
  {
   "cell_type": "markdown",
   "metadata": {
    "colab_type": "text",
    "id": "tzUYPROdtoLx"
   },
   "source": [
    "## 10. Training Models\n",
    "\n",
    "From here, we start our training from the very begining: loading the original training data. All above variables / instances could be ignored, which means you can swith `SHOW_DEMO` to `False` and run all the code cells above only to load the necessary modules and the methods we just implemented."
   ]
  },
  {
   "cell_type": "code",
   "execution_count": 0,
   "metadata": {
    "colab": {},
    "colab_type": "code",
    "id": "klwDbf462nP_"
   },
   "outputs": [],
   "source": [
    "OLD_IMG_SIZE = (100, 100)\n",
    "NEW_IMG_SIZE = (30, 30)\n",
    "\n",
    "n_class = 31\n",
    "\n",
    "file_X_noise_reduced = './input/noise_reduced_train_X.npy'\n",
    "file_X_resized = './input/resized_and_noise_reduced_X.npy'"
   ]
  },
  {
   "cell_type": "code",
   "execution_count": 61,
   "metadata": {
    "colab": {
     "base_uri": "https://localhost:8080/",
     "height": 266
    },
    "colab_type": "code",
    "executionInfo": {
     "elapsed": 21974,
     "status": "ok",
     "timestamp": 1543704425745,
     "user": {
      "displayName": "Qiang YE",
      "photoUrl": "https://lh6.googleusercontent.com/-k-9mYNphfpc/AAAAAAAAAAI/AAAAAAAAARQ/zyID3sFntfM/s64/photo.jpg",
      "userId": "15200210150486633975"
     },
     "user_tz": 300
    },
    "id": "lMAhojX10f4a",
    "outputId": "e51cecb9-3af9-461b-acc4-dbff554f3401"
   },
   "outputs": [
    {
     "name": "stdout",
     "output_type": "stream",
     "text": [
      "loading training labels from file: './input/train_labels.csv''\n",
      "size of image labels: 10000\n",
      "dict from int to label {0: 'shovel', 1: 'rifle', 2: 'scorpion', 3: 'apple', 4: 'spoon', 5: 'pineapple', 6: 'mouth', 7: 'skateboard', 8: 'rollerskates', 9: 'peanut', 10: 'rabbit', 11: 'sink', 12: 'sailboat', 13: 'nose', 14: 'skull', 15: 'pool', 16: 'pear', 17: 'pillow', 18: 'penguin', 19: 'nail', 20: 'pencil', 21: 'empty', 22: 'octagon', 23: 'moustache', 24: 'paintbrush', 25: 'panda', 26: 'parrot', 27: 'screwdriver', 28: 'squiggle', 29: 'rhinoceros', 30: 'mug'}\n",
      "dict from label to int {'shovel': 0, 'rifle': 1, 'scorpion': 2, 'apple': 3, 'spoon': 4, 'pineapple': 5, 'mouth': 6, 'skateboard': 7, 'rollerskates': 8, 'peanut': 9, 'rabbit': 10, 'sink': 11, 'sailboat': 12, 'nose': 13, 'skull': 14, 'pool': 15, 'pear': 16, 'pillow': 17, 'penguin': 18, 'nail': 19, 'pencil': 20, 'empty': 21, 'octagon': 22, 'moustache': 23, 'paintbrush': 24, 'panda': 25, 'parrot': 26, 'screwdriver': 27, 'squiggle': 28, 'rhinoceros': 29, 'mug': 30}\n",
      "train labels shape: (10000,)\n",
      "number of classes =  31\n",
      "loading training images from file: './input/train_images.npy'... \n",
      "successful\n",
      "shape of original training X(images):  (10000, 10000)\n",
      "loading 'noise reduced' from: './input/noise_reduced_train_X.npy'... successful.\n",
      "shape of 'noise reduced': (10000, 10000)\n",
      "loading 'X_resized' from: './input/resized_and_noise_reduced_X.npy'... successful.\n",
      "shape of 'X_resized': (10000, 900)\n"
     ]
    }
   ],
   "source": [
    "# load image labels data, build two mappings from label int to str, vice versa.\n",
    "image_labels, int_to_label, label_to_int = load_label_dataset()\n",
    "\n",
    "# load original image data (with noise, 10000 images with each has size 100*100\n",
    "X_original = load_image_dataset()\n",
    "\n",
    "# reduce noise\n",
    "X_noise_reduced = data_from_file(file_X_noise_reduced, \n",
    "                                 \"noise reduced\",\n",
    "                                 reduce_noise,\n",
    "                                 X_original,\n",
    "                                 img_size = OLD_IMG_SIZE)\n",
    "\n",
    "# crop and resize image to new size 30*30\n",
    "X_resized = data_from_file(file_X_resized, \n",
    "                           \"X_resized\",\n",
    "                           resize_dataset,\n",
    "                           X_noise_reduced,\n",
    "                           old_size = OLD_IMG_SIZE,\n",
    "                           new_size = NEW_IMG_SIZE                     )"
   ]
  },
  {
   "cell_type": "markdown",
   "metadata": {
    "colab_type": "text",
    "id": "zJ6txeGaO35x"
   },
   "source": [
    "Switch on / off some control variables to perform diffrent data augmentation strategies. \n",
    "\n",
    "You are also free to change the hyper-parameters to see the different training procedure and output.\n",
    "\n",
    "Several models will be trained in order with each has a different randomized train / valid split. We may also keep a small size of dataset for our own test dataset to check the performance of the model specified by its validate sub-set. \n",
    "\n",
    "After all the models listed are trained, we may select a model that performes best on validate sub-set, or use `bagging` to make an ensemble prediction. \n",
    "\n",
    "See comments in the codes for details."
   ]
  },
  {
   "cell_type": "code",
   "execution_count": 69,
   "metadata": {
    "colab": {
     "base_uri": "https://localhost:8080/",
     "height": 1635
    },
    "colab_type": "code",
    "executionInfo": {
     "elapsed": 1398765,
     "status": "ok",
     "timestamp": 1543706172052,
     "user": {
      "displayName": "Qiang YE",
      "photoUrl": "https://lh6.googleusercontent.com/-k-9mYNphfpc/AAAAAAAAAAI/AAAAAAAAARQ/zyID3sFntfM/s64/photo.jpg",
      "userId": "15200210150486633975"
     },
     "user_tz": 300
    },
    "id": "KkRo1tfOtoLy",
    "outputId": "81e62e4c-1a6c-47c6-daf8-dc5bcd2c95a2",
    "scrolled": false
   },
   "outputs": [
    {
     "name": "stdout",
     "output_type": "stream",
     "text": [
      "global training configuration: \n",
      "('n_min_valid_set', 128)\n",
      "('n_test_set', 0)\n",
      "('shuffle_before_split', True)\n",
      "('use_norm', True)\n",
      "('use_bad_sample_removal', True)\n",
      "('use_rotate', False)\n",
      "('use_rotate2', True)\n",
      "('use_noising', False)\n",
      "('use_fliplr', True)\n",
      "('batch_size', 128)\n",
      "('trainer', 'YQ')\n",
      "('max_epochs', 30)\n",
      "('early_stopping', True)\n",
      "('epoch_patience', 5)\n",
      "('auto_load_best_after_train', True)\n",
      "('auto_save_interval', 5)\n",
      "('show_live_progress', True)\n",
      "normalizing data... complete.\n",
      "260 samples to be washed out\n",
      "washing out bad samples... complete. current data shape: (9740, 901)\n",
      "reserve 0 samples for testing\n",
      "\n",
      "================== model0: Net5 ================== \n",
      "training model: Net5_0.5_0.0__YQ_0, lr: 0.001, weight_decay:0\n",
      "shuffling train_valid_set before splitting... complete.\n",
      "split train_valid_set to 7740 / 2000 samples\n",
      "rotating image(special)...100.00% 0m19s complete\n",
      "dataset augmented with fliplr. \n",
      "train_set size:75108, valid_set size:2000\n",
      "'s': auto saved, '*': best accuracy so far.\n",
      "[Epoch  0/29 100.00% 1m48s] train loss: 1.2589 acc: 62.63%   val loss: 1.0083 acc: 71.75%   *\n",
      "[Epoch  1/29 100.00% 1m47s] train loss: 0.7558 acc: 76.90%   val loss: 0.8938 acc: 75.65%   *\n",
      "[Epoch  2/29 100.00% 1m46s] train loss: 0.5703 acc: 81.96%   val loss: 0.9359 acc: 77.20%   *\n",
      "[Epoch  3/29 100.00% 1m46s] train loss: 0.4516 acc: 85.63%   val loss: 0.9542 acc: 78.10%   *\n",
      "[Epoch  4/29 100.00% 1m46s] train loss: 0.3692 acc: 88.12%   val loss: 1.0310 acc: 77.55%   s\n",
      "[Epoch  5/29 100.00% 1m46s] train loss: 0.2204 acc: 92.86%   val loss: 0.8987 acc: 80.25%   *\n",
      "[Epoch  6/29 100.00% 1m45s] train loss: 0.1738 acc: 94.39%   val loss: 0.9124 acc: 80.85%   *\n",
      "[Epoch  7/29 100.00% 1m46s] train loss: 0.1528 acc: 95.01%   val loss: 0.9284 acc: 80.95%   *\n",
      "[Epoch  8/29 100.00% 1m46s] train loss: 0.1400 acc: 95.37%   val loss: 0.9496 acc: 80.75%  \n",
      "[Epoch  9/29 100.00% 1m46s] train loss: 0.1241 acc: 95.90%   val loss: 0.9658 acc: 80.35%   s\n",
      "[Epoch 10/29 100.00% 1m46s] train loss: 0.1089 acc: 96.35%   val loss: 0.9628 acc: 80.65%  \n",
      "[Epoch 11/29 100.00% 1m46s] train loss: 0.1043 acc: 96.57%   val loss: 0.9645 acc: 80.60%  \n",
      "[Epoch 12/29 100.00% 1m45s] train loss: 0.1012 acc: 96.71%   val loss: 0.9688 acc: 80.45%   s\n",
      "Early stop at epoch: 7\n",
      "Training complete in 22m 57s\n",
      "Best val Acc on val:   80.95%\n",
      "Best val Acc on train: 96.71%\n"
     ]
    },
    {
     "data": {
      "image/png": "[encoded data removed]",
      "text/plain": [
       "<matplotlib.figure.Figure at 0x7f14bba02ba8>"
      ]
     },
     "metadata": {
      "tags": []
     },
     "output_type": "display_data"
    },
    {
     "name": "stdout",
     "output_type": "stream",
     "text": [
      "('n_min_valid_set', 128)\n",
      "('n_test_set', 0)\n",
      "('shuffle_before_split', True)\n",
      "('use_norm', True)\n",
      "('use_bad_sample_removal', True)\n",
      "('use_rotate', False)\n",
      "('use_rotate2', True)\n",
      "('use_noising', False)\n",
      "('use_fliplr', True)\n",
      "('batch_size', 128)\n",
      "('trainer', 'YQ')\n",
      "('max_epochs', 30)\n",
      "('early_stopping', True)\n",
      "('epoch_patience', 5)\n",
      "('auto_load_best_after_train', True)\n",
      "('auto_save_interval', 5)\n",
      "('show_live_progress', True)\n",
      "('best_acc_train', 0.9670873941524205)\n",
      "('best_acc_val', 0.8095)\n",
      "('time_elapsed', 1377.4413793087006)\n",
      "('early_stopped', 7)\n",
      "('epoch_passed', 13)\n"
     ]
    }
   ],
   "source": [
    "# you can put many models into a list so that they can be trained one after\n",
    "# another.\n",
    "# you can even assign different train / valid split for different models\n",
    "#\n",
    "'''\n",
    "models = [Net5(0.5), Net5(0.5), Net5(0.5), \n",
    "          Net5(0.45), Net5(0.45), Net5(0.45),\n",
    "          Net5(0.55), Net5(0.55), Net5(0.55)\n",
    "         ]\n",
    "'''\n",
    "# currently, we focused on single model `Net6`.\n",
    "# models = [Net6([32, 64, 128, 256, 256], p_fc = 0.2, p_conv = 0.2)]\n",
    "\n",
    "models = [Net5(p_fc = 0.5, channels = [32, 64, 128, 128, 128])]\n",
    "\n",
    "#models = [MyResNet(MyBlock, [2,1,0,0], [16, 64, 128, 256, 512], p = 0.0)]\n",
    "caches = []\n",
    "\n",
    "train_config = {\n",
    "    \"n_min_valid_set\": 128,\n",
    "    \"n_test_set\": 0,\n",
    "    \"shuffle_before_split\": True,\n",
    "    \"use_norm\": True, # use_normalization,\n",
    "    \"use_bad_sample_removal\": True, # use_bad_samples_removal,\n",
    "    \"use_rotate\": False, # use_augment_with_rotate,\n",
    "    \"use_rotate2\": True, # use_augment_with_rotate2,\n",
    "    \"use_noising\": False, #use_augment_with_noise,\n",
    "    \"use_fliplr\": True, #use_augment_with_fliplr,\n",
    "    \"batch_size\": 128,\n",
    "    \"trainer\": \"YQ\",\n",
    "    \"max_epochs\": 30,\n",
    "    \"early_stopping\": True,\n",
    "    \"epoch_patience\": 5,\n",
    "    \"auto_load_best_after_train\": True,\n",
    "    \"auto_save_interval\": 5,\n",
    "    \"show_live_progress\": True\n",
    "}\n",
    "\n",
    "debug(\"global training configuration: \")\n",
    "for item in train_config.items():\n",
    "    debug(item)\n",
    "\n",
    "\n",
    "# apply different train / val split for different models\n",
    "n_valid_sample = [2000] * len(models)\n",
    "# or set different number of validate set like:\n",
    "# n_valid_sample = [1500, 1000, 500, 2000, 1500... ] \n",
    "#[15000, 500, 500, 500, 500, 1000, 1000, 1000, 1000, 1000]\n",
    "# minimal smple number for validating\n",
    "\n",
    "# MAKE SURE USE THE SAME CONDITION ON TEST DATASET.\n",
    "if train_config[\"use_norm\"]:\n",
    "    X_resized = normalize_dataset(X_resized)\n",
    "    \n",
    "# all training samples are in total_set\n",
    "total_set = np.concatenate((X_resized, image_labels.reshape(-1, 1)), axis = 1)\n",
    "if train_config[\"use_bad_sample_removal\"]:\n",
    "    total_set = wash_samples(total_set)\n",
    "\n",
    "if train_config[\"shuffle_before_split\"]:\n",
    "    np.random.shuffle(total_set) # not need this?\n",
    "\n",
    "# split the total dataset to train_valid and test set.\n",
    "n_total_set = total_set.shape[0]\n",
    "test_start = n_total_set - train_config[\"n_test_set\"]\n",
    "\n",
    "# load pre-processed train data as a whole train_valid_test set.\n",
    "debug(\"reserve {} samples for testing\".format(train_config[\"n_test_set\"]))\n",
    "train_valid_set = total_set[:n_total_set - train_config[\"n_test_set\"],:]\n",
    "test_set = None\n",
    "if train_config[\"n_test_set\"] > 0:\n",
    "    test_set = total_set[n_total_set - train_config[\"n_test_set\"]:,:]\n",
    "    \n",
    "# training each model\n",
    "for i, model in enumerate(models):\n",
    "    \n",
    "    debug(\"\\n================== model{}: {} ================== \".format(\n",
    "        i, type(model).__name__))\n",
    " \n",
    "    hp_params = {\n",
    "        \"model_name\": type(model).__name__,\n",
    "        \"lr\": 1e-3,\n",
    "        \"weight_decay\": 0,\n",
    "        \"n_test_set\": train_config[\"n_test_set\"],\n",
    "        \"dropout_p\": model.dropout_p,\n",
    "        \"dropout_conv_p\": model.dropout_conv_p,\n",
    "    }\n",
    "    \n",
    "    # loss function\n",
    "    criterion = nn.CrossEntropyLoss()\n",
    "    optimizer = optim.Adam(model.parameters(), lr = hp_params[\"lr\"], \n",
    "                           weight_decay = hp_params[\"weight_decay\"])\n",
    "    #scheduler = lr_scheduler.StepLR(optimizer, \n",
    "    #                                step_size = 5, \n",
    "    #                                gamma = 0.5)\n",
    "\n",
    "    # optimizer = optim.SGD(model.parameters(), lr=0.01, momentum=0.9)\n",
    "    # Decay lr: first 10 epochs: 1e-3, last 10 epochs 1e-5, in middle: 1e-4\n",
    "    scheduler = lr_scheduler.MultiStepLR(\n",
    "        optimizer,  \n",
    "        milestones = [5,10,15,train_config[\"max_epochs\"]-5], \n",
    "        gamma = 0.1)\n",
    "    \n",
    "    suffix = \"_\" + train_config[\"trainer\"] + \"_\" + str(i)\n",
    "    debug('training model: {}, lr: {}, weight_decay:{}'.format(\n",
    "        model.get_name(suffix), \n",
    "        optimizer.param_groups[0]['lr'], \n",
    "        optimizer.param_groups[0]['weight_decay']))\n",
    "    \n",
    "    if train_config[\"shuffle_before_split\"]:\n",
    "        debug(\"shuffling train_valid_set before splitting... \", end = \"\")\n",
    "        np.random.shuffle(train_valid_set)\n",
    "        debug(\"complete.\")\n",
    "    \n",
    "    # reload train_valid_set from total_set\n",
    "    train_valid_set = total_set[:n_total_set - train_config[\"n_test_set\"],:]\n",
    "    \n",
    "    # split dataset to train / valid sets\n",
    "    n_train_valid_set = train_valid_set.shape[0]\n",
    "    cur_valid_sample = max(n_valid_sample[i], train_config[\"n_min_valid_set\"])\n",
    "    hp_params[\"n_valid_set\"] = cur_valid_sample\n",
    "\n",
    "    train_set = train_valid_set[0: -cur_valid_sample,:]\n",
    "    valid_set = train_valid_set[-cur_valid_sample: ,:]\n",
    " \n",
    "    debug(\"split train_valid_set to {} / {} samples\".format(\n",
    "        n_train_valid_set - cur_valid_sample, cur_valid_sample))\n",
    "    \n",
    "    #view_data_distribution(valid_set[:,-1], \"valid_set\", int_to_label)\n",
    "\n",
    "    \n",
    "    # data augmentation on training set\n",
    "    augmented_train_set_list = []\n",
    "    if train_config[\"use_rotate\"]:\n",
    "        augmented_train_set_list.append(augment_with_rotate(train_set))\n",
    "    if train_config[\"use_rotate2\"]:\n",
    "        augmented_train_set_list.append(augment_with_rotate2(train_set))\n",
    "    if train_config[\"use_noising\"]:\n",
    "        for i in range(4):\n",
    "            augmented_train_set_list.append(augment_with_noise(train_set))\n",
    "    if train_config[\"use_fliplr\"]:\n",
    "        augmented_train_set_list.append(augment_with_fliplr(train_set))\n",
    "        \n",
    "    for augmented_train_set in augmented_train_set_list:\n",
    "        train_set = np.concatenate((train_set, augmented_train_set), axis = 0)\n",
    "\n",
    "    n_train_set = train_set.shape[0]\n",
    "    hp_params[\"n_train_set\"] = n_train_set\n",
    "    \n",
    "    np.random.shuffle(train_set)\n",
    "    #view_data_distribution(train_set[:,-1], \"train_set\", int_to_label)\n",
    "    \n",
    "    # build new train_valid_set by merging train set with valid set\n",
    "    train_valid_set = np.concatenate((train_set, valid_set), axis = 0)\n",
    "    \n",
    "    # set model save path\n",
    "    best_model_path = './models/best_model_' + model.get_name(suffix)\n",
    "    auto_save_path = './models/auto_save_' + model.get_name(suffix)\n",
    "    \n",
    "    # pre-trained model from file\n",
    "    # careful: this may cause model saw samples in validating set.\n",
    "    # must NOT use pre-trained model if whole train / valid set si shuffled\n",
    "    #model = load_model(model, best_model_path, auto_save_path)\n",
    "    \n",
    "    model.to(device)\n",
    "    model.train()\n",
    "    \n",
    "    debug(\"train_set size:{}, valid_set size:{}\".format(\n",
    "        hp_params[\"n_train_set\"], hp_params[\"n_valid_set\"]))\n",
    "    \n",
    "    # perform training process\n",
    "    model, loss, accuracies, train_result = train_model(\n",
    "        model, \n",
    "        train_valid_set,\n",
    "        criterion, \n",
    "        optimizer, \n",
    "        n_valid_sample = cur_valid_sample,\n",
    "        scheduler = scheduler, \n",
    "        max_epochs = train_config[\"max_epochs\"],\n",
    "        early_stopping = train_config[\"early_stopping\"],\n",
    "        epoch_patience = train_config[\"epoch_patience\"],\n",
    "        auto_load_best_after_train = train_config[\"auto_load_best_after_train\"],\n",
    "        auto_save_path = auto_save_path, \n",
    "        best_model_path = best_model_path,\n",
    "        auto_save_interval = train_config[\"auto_save_interval\"],\n",
    "        batch_size = train_config[\"batch_size\"],\n",
    "        show_live_progress = train_config[\"show_live_progress\"]\n",
    "    )\n",
    "    caches.append(train_result)\n",
    "    \n",
    "    show_learning_curve(loss, accuracies)  \n",
    "    for item in train_config.items():\n",
    "        debug(item)\n",
    "    for item in train_result.items():\n",
    "        debug(item)"
   ]
  },
  {
   "cell_type": "code",
   "execution_count": 70,
   "metadata": {
    "colab": {
     "base_uri": "https://localhost:8080/",
     "height": 54
    },
    "colab_type": "code",
    "executionInfo": {
     "elapsed": 702,
     "status": "ok",
     "timestamp": 1543706278378,
     "user": {
      "displayName": "Qiang YE",
      "photoUrl": "https://lh6.googleusercontent.com/-k-9mYNphfpc/AAAAAAAAAAI/AAAAAAAAARQ/zyID3sFntfM/s64/photo.jpg",
      "userId": "15200210150486633975"
     },
     "user_tz": 300
    },
    "id": "y3uOsUowSrf9",
    "outputId": "071d222c-a08b-4ca4-b782-e25ef3d0495f"
   },
   "outputs": [
    {
     "name": "stdout",
     "output_type": "stream",
     "text": [
      "dict_items([('best_acc_train', 0.9670873941524205), ('best_acc_val', 0.8095), ('time_elapsed', 1377.4413793087006), ('early_stopped', 7), ('epoch_passed', 13)])\n"
     ]
    }
   ],
   "source": [
    "# view model architecture and their best accuracies on validate dataset.\n",
    "for cache in caches:\n",
    "    print(cache.items())"
   ]
  },
  {
   "cell_type": "markdown",
   "metadata": {
    "colab_type": "text",
    "id": "CTAoGBKuyYGO"
   },
   "source": []
  },
  {
   "cell_type": "markdown",
   "metadata": {
    "colab_type": "text",
    "id": "A0tXlWAltoL1"
   },
   "source": [
    "## 11. Performance Analysis"
   ]
  },
  {
   "cell_type": "code",
   "execution_count": 71,
   "metadata": {
    "colab": {
     "base_uri": "https://localhost:8080/",
     "height": 54
    },
    "colab_type": "code",
    "executionInfo": {
     "elapsed": 830,
     "status": "ok",
     "timestamp": 1543706281702,
     "user": {
      "displayName": "Qiang YE",
      "photoUrl": "https://lh6.googleusercontent.com/-k-9mYNphfpc/AAAAAAAAAAI/AAAAAAAAARQ/zyID3sFntfM/s64/photo.jpg",
      "userId": "15200210150486633975"
     },
     "user_tz": 300
    },
    "id": "P74kTNlE0cZ8",
    "outputId": "5526b351-da3c-46b5-c87a-d33b26a96362"
   },
   "outputs": [
    {
     "data": {
      "text/plain": [
       "'\\ntrainers = [\"YQ\"]\\nmodels = [Net5(), Net5(0.45), Net5(0.55), \\n          Net5(), Net5(0.45), Net5(0.55), \\n          Net5(), Net5(0.45), Net5(0.55),\\n         ] * len(trainers)\\n\\n\\nfor i, model in enumerate(models):\\n    for trainer in trainers:\\n        suffix = \"_\" + trainer + \"_\" + str(i)\\n        best_model_path = \\'./models/best_model_\\' + model.get_name(suffix)\\n        auto_save_path = \\'./models/auto_save_\\' + model.get_name(suffix)\\n        model = load_model(model, \\n                           best_model_path = best_model_path,\\n                           auto_save_path = auto_save_path,\\n                           best_model_first = True,\\n                           ext = suffix)\\n'"
      ]
     },
     "execution_count": 71,
     "metadata": {
      "tags": []
     },
     "output_type": "execute_result"
    }
   ],
   "source": [
    "# uncomment and run this cell if you load models from model files\n",
    "'''\n",
    "trainers = [\"YQ\"]\n",
    "models = [Net5(), Net5(0.45), Net5(0.55), \n",
    "          Net5(), Net5(0.45), Net5(0.55), \n",
    "          Net5(), Net5(0.45), Net5(0.55),\n",
    "         ] * len(trainers)\n",
    "\n",
    "\n",
    "for i, model in enumerate(models):\n",
    "    for trainer in trainers:\n",
    "        suffix = \"_\" + trainer + \"_\" + str(i)\n",
    "        best_model_path = './models/best_model_' + model.get_name(suffix)\n",
    "        auto_save_path = './models/auto_save_' + model.get_name(suffix)\n",
    "        model = load_model(model, \n",
    "                           best_model_path = best_model_path,\n",
    "                           auto_save_path = auto_save_path,\n",
    "                           best_model_first = True,\n",
    "                           ext = suffix)\n",
    "'''"
   ]
  },
  {
   "cell_type": "code",
   "execution_count": 0,
   "metadata": {
    "colab": {},
    "colab_type": "code",
    "id": "8EbKVJgDtoL2"
   },
   "outputs": [],
   "source": [
    "def predict(model, test_X):\n",
    "    \"\"\"predict using a model on a dataset(test_X)\n",
    "    params\n",
    "        model: nn.Module\n",
    "        test_X: dataset, narray (n_size, n_feature)\n",
    "    returns\n",
    "        predict_labels: prediction, list [n_size]\n",
    "    \"\"\"\n",
    "    since = time.time()\n",
    "    model.to(device)\n",
    "    try:\n",
    "        model.eval()   # Set model to evaluate mode\n",
    "    except:\n",
    "        pass\n",
    "    predict_labels = []\n",
    "    # Iterate over data.\n",
    "    i = 0\n",
    "    total = len(test_X)\n",
    "    test_data = dataloader(phase = 'test', data_source = test_X)\n",
    "    for batch_inputs in test_data:\n",
    "        #debug(batch_inputs.shape)\n",
    "        batch_inputs = batch_inputs.to(device)\n",
    "        with torch.set_grad_enabled(False):\n",
    "            batch_outputs = model(batch_inputs)\n",
    "            batch_predict = torch.argmax(batch_outputs, dim = 1)\n",
    "            batch_predict = batch_predict.cpu().numpy().tolist()\n",
    "            predict_labels.extend(batch_predict)\n",
    "            i += batch_inputs.size(0)\n",
    "            print_progress(i / total)\n",
    "    return predict_labels\n",
    "\n",
    "\n",
    "def predicts_from_models(models, test_X):\n",
    "    \"\"\"return an ensemble predicts of all models on test_X\n",
    "    params\n",
    "        models: list [model]\n",
    "        test_X: test set, narray (n_samples, n_features)\n",
    "    returns\n",
    "        predicts: narray (n_samples, len(models))\n",
    "    \"\"\"\n",
    "    n_models = len(models)\n",
    "    n_samples = test_X.shape[0]\n",
    "    predicts = np.zeros((n_samples, n_models))\n",
    "    for i, model in enumerate(models):\n",
    "        predicts[:,i] = np.array(predict(model, test_X)).reshape(-1, )\n",
    "    \n",
    "    return predicts\n",
    "\n",
    "\n",
    "def bagging(all_predicts):\n",
    "    \"\"\"giving a bagging predict based on all_predicts\n",
    "    params\n",
    "        all_predicts: narray (n_samples, n_models)\n",
    "    returns\n",
    "        voted_predict: list, \n",
    "    \"\"\"\n",
    "    n_samples, n_models = all_predicts.shape\n",
    "    voted_predict = [None] * n_samples\n",
    "    for i in range(n_samples):\n",
    "        voted_predict[i] = np.argmax(np.bincount(all_predicts[i].astype(int)))\n",
    "    return voted_predict\n",
    "\n",
    "\n",
    "def bagging_from_models(models, test_X):\n",
    "    \"\"\"ensemble predic using bagging\n",
    "    params\n",
    "        models: list of model of nn.Module, [nn.Module]\n",
    "        test_X: dataset, narray (n_size, n_feature)\n",
    "    returns\n",
    "        voted_predicted: prediction, list [n_size]\n",
    "        predicts: predicts by all models, narray [n_size, len(models)]\n",
    "    \"\"\"\n",
    "    predicts = predicts_from_models(models, test_X)\n",
    "    voted_predict = bagging(predicts)   \n",
    "    return voted_predict, predicts\n",
    "    \n",
    "\n",
    "def analysis_predict(true_labels, predict_labels, n_class = 31):\n",
    "    \"\"\"give an averate accuracy, show accuracies in each class.\n",
    "    you can switch the values of the two parameters to see difference output\n",
    "    params\n",
    "        true_labels: narray (-1, ) or (-1, 1)\n",
    "        predict_labels: narray (-1, ) or (-1, 1)\n",
    "    returns\n",
    "        average_accuracy\n",
    "    \"\"\"\n",
    "    debug(\"Size: {}\".format(len(true_labels)))\n",
    "    class_correct = [0 for _ in range(n_class)]\n",
    "    class_total = [0 for _ in range(n_class)]\n",
    "    for i in range(len(predict_labels)):\n",
    "        label_int = int(true_labels[i])\n",
    "        class_correct[label_int] += (predict_labels[i] == label_int)\n",
    "        class_total[label_int] += 1\n",
    "        \n",
    "    average_accuracy = sum(class_correct) / sum(class_total)\n",
    "    print(\"Average accuracy: {:.2%}\".format(average_accuracy))\n",
    "\n",
    "    print(\"-\"*32)\n",
    "    for i in range(n_class):\n",
    "        print(\"Accuracy of {:>12s}: {:.2%}\".format(\n",
    "            int_to_label[i], class_correct[i] / class_total[i]))\n",
    "\n",
    "    return average_accuracy"
   ]
  },
  {
   "cell_type": "markdown",
   "metadata": {
    "colab_type": "text",
    "id": "NHIxAigTtoL4"
   },
   "source": [
    "**Test on reserved test set and show accuracy**\n",
    "\n",
    "If you don't reserve test samples from the training dataset, skip the following cells in this section."
   ]
  },
  {
   "cell_type": "code",
   "execution_count": 0,
   "metadata": {
    "colab": {},
    "colab_type": "code",
    "id": "mxfmLEFPtoL4"
   },
   "outputs": [],
   "source": [
    "# using test_set\n",
    "# test_set = total_set[n_test_set:,:]\n",
    "if test_set is not None:\n",
    "    test_inputs = test_set[:,:-1]\n",
    "    test_labels = test_set[:, -1]\n",
    "    debug(test_set.shape)\n",
    "    test_predict_bagging, test_predicts_all = bagging_from_models(models, test_inputs)\n"
   ]
  },
  {
   "cell_type": "code",
   "execution_count": 0,
   "metadata": {
    "colab": {},
    "colab_type": "code",
    "id": "N_LUO0V1Ex5P"
   },
   "outputs": [],
   "source": [
    "#debug(test_predict_bagging[0:100])\n",
    "#debug(test_predicts_all[0:30])"
   ]
  },
  {
   "cell_type": "code",
   "execution_count": 0,
   "metadata": {
    "colab": {},
    "colab_type": "code",
    "id": "cIljq-gitoL9",
    "scrolled": false
   },
   "outputs": [],
   "source": [
    "if test_set is not None:\n",
    "    average_accuracy = analysis_predict(test_labels, test_predict_bagging)"
   ]
  },
  {
   "cell_type": "code",
   "execution_count": 0,
   "metadata": {
    "colab": {},
    "colab_type": "code",
    "id": "N3PUUEyT7oX5"
   },
   "outputs": [],
   "source": [
    "if test_set is not None:\n",
    "    view_data_distribution(test_predict_bagging, \"test_predict\", int_to_label)"
   ]
  },
  {
   "cell_type": "code",
   "execution_count": 0,
   "metadata": {
    "colab": {},
    "colab_type": "code",
    "id": "MReKllSroHJQ"
   },
   "outputs": [],
   "source": [
    "if test_set is not None:\n",
    "    show_images([test_set[:,:-1]], test_predict_bagging)"
   ]
  },
  {
   "cell_type": "markdown",
   "metadata": {
    "colab_type": "text",
    "id": "ISQylsYzHPLw"
   },
   "source": []
  },
  {
   "cell_type": "markdown",
   "metadata": {
    "colab_type": "text",
    "id": "v2IhBYt4-T5q"
   },
   "source": [
    "view mis-classified images"
   ]
  },
  {
   "cell_type": "code",
   "execution_count": 0,
   "metadata": {
    "colab": {},
    "colab_type": "code",
    "id": "rgRSKciq-SPE"
   },
   "outputs": [],
   "source": [
    "# view indices of misclassified images\n",
    "if test_set is not None:\n",
    "    is_correct = (np.array(test_predict_bagging) == test_labels)\n",
    "    mis_indices = np.argwhere(is_correct == False).reshape(-1,)\n",
    "    print(mis_indices)\n",
    "    debug(len(mis_indices))"
   ]
  },
  {
   "cell_type": "code",
   "execution_count": 0,
   "metadata": {
    "colab": {},
    "colab_type": "code",
    "id": "Bt8VRSbH_jSU"
   },
   "outputs": [],
   "source": [
    "if test_set is not None:\n",
    "    \n",
    "    # show mis-classified images and predictions\n",
    "    # this may takes some time to show all the images wrong classified.\n",
    "    for id in mis_indices:\n",
    "        debug(\"predicted:\", int_to_label[test_predict_bagging[id]])\n",
    "        show_images(test_set[:,0:-1], test_set[:,-1], id)\n",
    "        print(\"-\" * 20)"
   ]
  },
  {
   "cell_type": "markdown",
   "metadata": {
    "colab_type": "text",
    "id": "69Bf4HmZtoL_"
   },
   "source": [
    "Same result by confusion_matrix from sklearn."
   ]
  },
  {
   "cell_type": "code",
   "execution_count": 0,
   "metadata": {
    "colab": {},
    "colab_type": "code",
    "id": "-fCXoi6qtoMJ"
   },
   "outputs": [],
   "source": [
    "# show confusion matrix\n",
    "\n",
    "from sklearn.metrics import confusion_matrix\n",
    "\n",
    "if test_set is not None:\n",
    "    cm = confusion_matrix(test_labels, test_predict_bagging)\n",
    "    plt.imshow(cm)\n",
    "\n",
    "#class_corrects = np.max(cm, axis = 1)\n",
    "#class_totals = np.sum(cm, axis = 1)\n",
    "#average_accuracy = np.sum(class_corrects) / np.sum(class_totals)\n",
    "#accuracy = class_corrects / class_totals\n",
    "\n",
    "#print(\"Average accuracy(valid) : {:.2%}\".format(average_accuracy))\n",
    "#print(\"-\"*32)\n",
    "#for i in range(n_class):\n",
    "#    print(\"Accuracy of {:>12s}: {:.2%}\".format(\n",
    "#        int_to_label[i], accuracy[i] ))\n"
   ]
  },
  {
   "cell_type": "markdown",
   "metadata": {
    "colab_type": "text",
    "id": "mDN9ZtxRtoML"
   },
   "source": [
    "## 12. Testing Models on Test Dataset"
   ]
  },
  {
   "cell_type": "markdown",
   "metadata": {
    "colab_type": "text",
    "id": "Hgd-SztoQsf4"
   },
   "source": [
    "### loading test dataset"
   ]
  },
  {
   "cell_type": "code",
   "execution_count": 0,
   "metadata": {
    "colab": {},
    "colab_type": "code",
    "id": "x-TgAG1_toMM"
   },
   "outputs": [],
   "source": [
    "test_images = None\n",
    "test_X_noise_reduced = None"
   ]
  },
  {
   "cell_type": "code",
   "execution_count": 0,
   "metadata": {
    "colab": {},
    "colab_type": "code",
    "id": "RhuqXpb6toMO",
    "scrolled": false
   },
   "outputs": [],
   "source": [
    "test_image_data = np.load('./input/test_images.npy', encoding = 'latin1')\n",
    "test_size, test_features = test_image_data.shape[0], len(test_image_data[0][1])"
   ]
  },
  {
   "cell_type": "code",
   "execution_count": 84,
   "metadata": {
    "colab": {
     "base_uri": "https://localhost:8080/",
     "height": 34
    },
    "colab_type": "code",
    "executionInfo": {
     "elapsed": 1333,
     "status": "ok",
     "timestamp": 1543706450216,
     "user": {
      "displayName": "Qiang YE",
      "photoUrl": "https://lh6.googleusercontent.com/-k-9mYNphfpc/AAAAAAAAAAI/AAAAAAAAARQ/zyID3sFntfM/s64/photo.jpg",
      "userId": "15200210150486633975"
     },
     "user_tz": 300
    },
    "id": "FwbE6-SktoMR",
    "outputId": "b6cb078e-cbb8-40cd-a791-7cc307b838e4"
   },
   "outputs": [
    {
     "name": "stdout",
     "output_type": "stream",
     "text": [
      "(10000, 10000)\n"
     ]
    }
   ],
   "source": [
    "test_images = np.vstack(test_image_data[:,1]) # test_size, 100, 100\n",
    "debug(test_images.shape)"
   ]
  },
  {
   "cell_type": "code",
   "execution_count": 85,
   "metadata": {
    "colab": {
     "base_uri": "https://localhost:8080/",
     "height": 70
    },
    "colab_type": "code",
    "executionInfo": {
     "elapsed": 5031,
     "status": "ok",
     "timestamp": 1543706456910,
     "user": {
      "displayName": "Qiang YE",
      "photoUrl": "https://lh6.googleusercontent.com/-k-9mYNphfpc/AAAAAAAAAAI/AAAAAAAAARQ/zyID3sFntfM/s64/photo.jpg",
      "userId": "15200210150486633975"
     },
     "user_tz": 300
    },
    "id": "2s0t9PmotoMW",
    "outputId": "9671d606-b940-4ab1-cda6-1ffccba86e33"
   },
   "outputs": [
    {
     "name": "stdout",
     "output_type": "stream",
     "text": [
      "loading 'test_noise_reduced' from: './input/noise_reduced_test_X.npy'... successful.\n",
      "shape of 'test_noise_reduced': (10000, 10000)\n",
      "(10000, 10000)\n"
     ]
    }
   ],
   "source": [
    "file_test_X_noise_reduced = './input/noise_reduced_test_X.npy'\n",
    "test_X_noise_reduced = data_from_file(\n",
    "    file_test_X_noise_reduced,\n",
    "    \"test_noise_reduced\",\n",
    "    reduce_noise,\n",
    "    test_images)\n",
    "   \n",
    "debug(test_X_noise_reduced.shape)          "
   ]
  },
  {
   "cell_type": "markdown",
   "metadata": {
    "colab_type": "text",
    "id": "TL6a67kcQzX6"
   },
   "source": [
    "### performing the same data pre-process procedure as train / val dataset"
   ]
  },
  {
   "cell_type": "code",
   "execution_count": 86,
   "metadata": {
    "colab": {
     "base_uri": "https://localhost:8080/",
     "height": 52
    },
    "colab_type": "code",
    "executionInfo": {
     "elapsed": 38027,
     "status": "ok",
     "timestamp": 1543706496770,
     "user": {
      "displayName": "Qiang YE",
      "photoUrl": "https://lh6.googleusercontent.com/-k-9mYNphfpc/AAAAAAAAAAI/AAAAAAAAARQ/zyID3sFntfM/s64/photo.jpg",
      "userId": "15200210150486633975"
     },
     "user_tz": 300
    },
    "id": "85R_H-nd7i5D",
    "outputId": "d9f12e89-4245-46b9-8dba-ed6d8809ddaa"
   },
   "outputs": [
    {
     "name": "stdout",
     "output_type": "stream",
     "text": [
      "resizing images... \n",
      "progress:100.00% 0m27snormalizing data... complete.\n"
     ]
    }
   ],
   "source": [
    "# make sure that both resized_test_X and resized_train_X are generated by\n",
    "# the same data pre-processes.\n",
    "OLD_IMG_SIZE = (100, 100)\n",
    "NEW_IMG_SIZE = (30, 30)\n",
    "file_test_X_resized = './input/resized_test_X.npy'\n",
    "\n",
    "test_X_resized = resize_dataset(\n",
    "    test_X_noise_reduced,\n",
    "    old_size = OLD_IMG_SIZE,\n",
    "    new_size = NEW_IMG_SIZE\n",
    ")\n",
    "use_normalization = True\n",
    "\n",
    "# MAKE SURE USE THE SAME CONDITION ON TRAINING DATASET.\n",
    "if use_normalization:\n",
    "    test_X_resized = normalize_dataset(test_X_resized)"
   ]
  },
  {
   "cell_type": "code",
   "execution_count": 87,
   "metadata": {
    "colab": {
     "base_uri": "https://localhost:8080/",
     "height": 231
    },
    "colab_type": "code",
    "executionInfo": {
     "elapsed": 890,
     "status": "ok",
     "timestamp": 1543706522596,
     "user": {
      "displayName": "Qiang YE",
      "photoUrl": "https://lh6.googleusercontent.com/-k-9mYNphfpc/AAAAAAAAAAI/AAAAAAAAARQ/zyID3sFntfM/s64/photo.jpg",
      "userId": "15200210150486633975"
     },
     "user_tz": 300
    },
    "id": "-tFKU4lOtoMa",
    "outputId": "a13cfa40-bdd1-4eeb-b152-423f4c6b2309"
   },
   "outputs": [
    {
     "name": "stdout",
     "output_type": "stream",
     "text": [
      "id:2592\n"
     ]
    },
    {
     "data": {
      "image/png": "[encoded data removed]",
      "text/plain": [
       "<matplotlib.figure.Figure at 0x7f14bbbece80>"
      ]
     },
     "metadata": {
      "tags": []
     },
     "output_type": "display_data"
    }
   ],
   "source": [
    "# before make prediction, let's see some test images\n",
    "# re-run this cell to show different images on test dataset.\n",
    "show_images([test_X_resized, test_X_noise_reduced, test_images], is_test = True)"
   ]
  },
  {
   "cell_type": "code",
   "execution_count": 0,
   "metadata": {
    "colab": {},
    "colab_type": "code",
    "id": "1ml6T_6S9e7Y"
   },
   "outputs": [],
   "source": [
    "# release memory, these instances are only used for display images.\n",
    "test_images = None # release memory\n",
    "test_X_noise_reduced = None # release memory"
   ]
  },
  {
   "cell_type": "markdown",
   "metadata": {
    "colab_type": "text",
    "id": "RNtx4IDCQ_U4"
   },
   "source": [
    "### loading models from file if necessary"
   ]
  },
  {
   "cell_type": "code",
   "execution_count": 89,
   "metadata": {
    "colab": {
     "base_uri": "https://localhost:8080/",
     "height": 54
    },
    "colab_type": "code",
    "executionInfo": {
     "elapsed": 265,
     "status": "ok",
     "timestamp": 1543706526613,
     "user": {
      "displayName": "Qiang YE",
      "photoUrl": "https://lh6.googleusercontent.com/-k-9mYNphfpc/AAAAAAAAAAI/AAAAAAAAARQ/zyID3sFntfM/s64/photo.jpg",
      "userId": "15200210150486633975"
     },
     "user_tz": 300
    },
    "id": "pZ7sNOJrtoMe",
    "outputId": "7af611c6-1edb-43de-9d56-b3f459f986f9"
   },
   "outputs": [
    {
     "data": {
      "text/plain": [
       "'\\ntrainers = [\"YQ\"]\\nmodels = [Net5(), Net5(), Net5(), Net5(), Net5(), Net5(), Net5(), Net5(), \\n          Net5(0.45), Net5(0.45), Net5(0.45), Net5(0.45), Net5(0.45), Net5(0.45),\\n          Net5(0.55), Net5(0.55), Net5(0.55), Net5(0.55), Net5(0.55), Net5(0.55)\\n         ]\\n\\n\\nfor i, model in enumerate(models):\\n    for trainer in trainers:\\n        suffix = \"_\" + trainer + \"_\" + str(i)\\n        best_model_path = \\'./models/best_model_\\' + model.get_name(suffix)\\n        auto_save_path = \\'./models/auto_save_\\' + model.get_name(suffix)\\n        model = load_model(model, \\n                           best_model_path = best_model_path,\\n                           auto_save_path = auto_save_path,\\n                           best_model_first = True,\\n                           ext = suffix)\\n        model.eval()\\n'"
      ]
     },
     "execution_count": 89,
     "metadata": {
      "tags": []
     },
     "output_type": "execute_result"
    }
   ],
   "source": [
    "# uncomment the following codes to load model from files\n",
    "# make reasonable modification to these codes\n",
    "'''\n",
    "trainers = [\"YQ\"]\n",
    "models = [Net5(), Net5(), Net5(), Net5(), Net5(), Net5(), Net5(), Net5(), \n",
    "          Net5(0.45), Net5(0.45), Net5(0.45), Net5(0.45), Net5(0.45), Net5(0.45),\n",
    "          Net5(0.55), Net5(0.55), Net5(0.55), Net5(0.55), Net5(0.55), Net5(0.55)\n",
    "         ]\n",
    "\n",
    "\n",
    "for i, model in enumerate(models):\n",
    "    for trainer in trainers:\n",
    "        suffix = \"_\" + trainer + \"_\" + str(i)\n",
    "        best_model_path = './models/best_model_' + model.get_name(suffix)\n",
    "        auto_save_path = './models/auto_save_' + model.get_name(suffix)\n",
    "        model = load_model(model, \n",
    "                           best_model_path = best_model_path,\n",
    "                           auto_save_path = auto_save_path,\n",
    "                           best_model_first = True,\n",
    "                           ext = suffix)\n",
    "        model.eval()\n",
    "'''"
   ]
  },
  {
   "cell_type": "markdown",
   "metadata": {
    "colab_type": "text",
    "id": "R8BULng7RItF"
   },
   "source": [
    "### predicting and bagging"
   ]
  },
  {
   "cell_type": "code",
   "execution_count": 90,
   "metadata": {
    "colab": {
     "base_uri": "https://localhost:8080/",
     "height": 34
    },
    "colab_type": "code",
    "executionInfo": {
     "elapsed": 4558,
     "status": "ok",
     "timestamp": 1543706533730,
     "user": {
      "displayName": "Qiang YE",
      "photoUrl": "https://lh6.googleusercontent.com/-k-9mYNphfpc/AAAAAAAAAAI/AAAAAAAAARQ/zyID3sFntfM/s64/photo.jpg",
      "userId": "15200210150486633975"
     },
     "user_tz": 300
    },
    "id": "Q5g0lxDHtoMg",
    "outputId": "dbba7eb7-251c-4210-ed3b-e88363152263"
   },
   "outputs": [
    {
     "name": "stdout",
     "output_type": "stream",
     "text": [
      "progress:100.00%"
     ]
    }
   ],
   "source": [
    "# get all models' prediction on test dataset and their bagging prediction\n",
    "predict_bagging, all_predicts = bagging_from_models(models, test_X_resized)\n",
    "current_model_name = \"bagging\""
   ]
  },
  {
   "cell_type": "code",
   "execution_count": 91,
   "metadata": {
    "colab": {
     "base_uri": "https://localhost:8080/",
     "height": 90
    },
    "colab_type": "code",
    "executionInfo": {
     "elapsed": 276,
     "status": "ok",
     "timestamp": 1543706536843,
     "user": {
      "displayName": "Qiang YE",
      "photoUrl": "https://lh6.googleusercontent.com/-k-9mYNphfpc/AAAAAAAAAAI/AAAAAAAAARQ/zyID3sFntfM/s64/photo.jpg",
      "userId": "15200210150486633975"
     },
     "user_tz": 300
    },
    "id": "54g1DsvNtoMj",
    "outputId": "a6c19e12-356b-4d1e-a4e6-f197ee8623c5",
    "scrolled": true
   },
   "outputs": [
    {
     "name": "stdout",
     "output_type": "stream",
     "text": [
      "{0: 'shovel', 1: 'rifle', 2: 'scorpion', 3: 'apple', 4: 'spoon', 5: 'pineapple', 6: 'mouth', 7: 'skateboard', 8: 'rollerskates', 9: 'peanut', 10: 'rabbit', 11: 'sink', 12: 'sailboat', 13: 'nose', 14: 'skull', 15: 'pool', 16: 'pear', 17: 'pillow', 18: 'penguin', 19: 'nail', 20: 'pencil', 21: 'empty', 22: 'octagon', 23: 'moustache', 24: 'paintbrush', 25: 'panda', 26: 'parrot', 27: 'screwdriver', 28: 'squiggle', 29: 'rhinoceros', 30: 'mug'}\n",
      "[12, 28, 2, 21, 19, 3, 16, 30, 1, 23, 13, 6, 21, 10, 20, 0, 9, 1, 28, 21, 5, 12, 15, 23, 3, 13, 12, 15, 0, 30, 10, 17, 21, 24, 0, 12, 8, 2, 17, 12, 19, 2, 19, 15, 29, 25, 16, 13, 6, 20, 28, 1, 0, 23, 15, 19, 3, 4, 10, 22, 26, 13, 20, 15, 2, 18, 28, 21, 2, 22, 16, 1, 18, 9, 18, 19, 21, 23, 28, 29, 18, 12, 8, 5, 17, 19, 11, 12, 22, 21, 5, 2, 12, 11, 5, 14, 17, 0, 26, 6]\n"
     ]
    },
    {
     "data": {
      "text/plain": [
       "10000"
      ]
     },
     "execution_count": 91,
     "metadata": {
      "tags": []
     },
     "output_type": "execute_result"
    }
   ],
   "source": [
    "# view some prediction data\n",
    "print(int_to_label)\n",
    "print(predict_bagging[100:200])\n",
    "len(predict_bagging)"
   ]
  },
  {
   "cell_type": "code",
   "execution_count": 92,
   "metadata": {
    "colab": {
     "base_uri": "https://localhost:8080/",
     "height": 230
    },
    "colab_type": "code",
    "executionInfo": {
     "elapsed": 410,
     "status": "ok",
     "timestamp": 1543706539110,
     "user": {
      "displayName": "Qiang YE",
      "photoUrl": "https://lh6.googleusercontent.com/-k-9mYNphfpc/AAAAAAAAAAI/AAAAAAAAARQ/zyID3sFntfM/s64/photo.jpg",
      "userId": "15200210150486633975"
     },
     "user_tz": 300
    },
    "id": "Rb348ajxtoMq",
    "outputId": "38a21778-6199-43fe-9b34-e1b928dcb43f",
    "scrolled": true
   },
   "outputs": [
    {
     "name": "stdout",
     "output_type": "stream",
     "text": [
      "image id:7072, class_id:23, class_label:moustache\n"
     ]
    },
    {
     "data": {
      "image/png": "[encoded data removed]",
      "text/plain": [
       "<matplotlib.figure.Figure at 0x7f14b792d0f0>"
      ]
     },
     "metadata": {
      "tags": []
     },
     "output_type": "display_data"
    }
   ],
   "source": [
    "# show an image and corresponding bagging prediction\n",
    "show_images([test_X_resized, test_X_noise_reduced, test_images], predict_bagging)"
   ]
  },
  {
   "cell_type": "code",
   "execution_count": 93,
   "metadata": {
    "colab": {
     "base_uri": "https://localhost:8080/",
     "height": 633
    },
    "colab_type": "code",
    "executionInfo": {
     "elapsed": 268,
     "status": "ok",
     "timestamp": 1543706541766,
     "user": {
      "displayName": "Qiang YE",
      "photoUrl": "https://lh6.googleusercontent.com/-k-9mYNphfpc/AAAAAAAAAAI/AAAAAAAAARQ/zyID3sFntfM/s64/photo.jpg",
      "userId": "15200210150486633975"
     },
     "user_tz": 300
    },
    "id": "iVCLuG9iLJ6N",
    "outputId": "a760ca15-fde6-4950-e26f-66519f22aed6"
   },
   "outputs": [
    {
     "name": "stdout",
     "output_type": "stream",
     "text": [
      "Distribution of:  test predict\n",
      "classes:31 total: 10000 (100%) \n",
      "--------------------------------\n",
      "          shovel: 323 (3.23%)\n",
      "           rifle: 422 (4.22%)\n",
      "        scorpion: 340 (3.40%)\n",
      "           apple: 352 (3.52%)\n",
      "           spoon: 160 (1.60%)\n",
      "       pineapple: 492 (4.92%)\n",
      "           mouth: 569 (5.69%)\n",
      "      skateboard: 406 (4.06%)\n",
      "    rollerskates: 280 (2.80%)\n",
      "          peanut: 259 (2.59%)\n",
      "          rabbit: 345 (3.45%)\n",
      "            sink: 259 (2.59%)\n",
      "        sailboat: 396 (3.96%)\n",
      "            nose: 193 (1.93%)\n",
      "           skull: 291 (2.91%)\n",
      "            pool: 435 (4.35%)\n",
      "            pear: 176 (1.76%)\n",
      "          pillow: 261 (2.61%)\n",
      "         penguin: 324 (3.24%)\n",
      "            nail: 342 (3.42%)\n",
      "          pencil: 313 (3.13%)\n",
      "           empty: 370 (3.70%)\n",
      "         octagon: 450 (4.50%)\n",
      "       moustache: 437 (4.37%)\n",
      "      paintbrush: 275 (2.75%)\n",
      "           panda: 180 (1.80%)\n",
      "          parrot: 342 (3.42%)\n",
      "     screwdriver: 198 (1.98%)\n",
      "        squiggle: 255 (2.55%)\n",
      "      rhinoceros: 179 (1.79%)\n",
      "             mug: 376 (3.76%)\n",
      "--------------------------------\n"
     ]
    }
   ],
   "source": [
    "# view predicted label distribution\n",
    "# check if they are similar to the train or valid dataset.\n",
    "view_data_distribution(predict_bagging, \"test predict\", int_to_label)\n",
    "#  special_labels = ['peanut', 'spoon', 'shovel', 'screwdriver', 'squiggle',\n",
    "#                      'pencil']"
   ]
  },
  {
   "cell_type": "code",
   "execution_count": 0,
   "metadata": {
    "colab": {},
    "colab_type": "code",
    "id": "F3fN4OX6MAG4"
   },
   "outputs": [],
   "source": [
    "# you can also check a single model's prediction and predicted label\n",
    "# distribution, uncomment next two lines\n",
    "\n",
    "# single_predict = predict(models[0], test_X_resized)\n",
    "# view_data_distribution(predict_bagging, \"test predict\", int_to_label)"
   ]
  },
  {
   "cell_type": "markdown",
   "metadata": {
    "colab_type": "text",
    "id": "gAw-khA-RN2H"
   },
   "source": [
    "### generate / load csv predict"
   ]
  },
  {
   "cell_type": "code",
   "execution_count": 0,
   "metadata": {
    "colab": {},
    "colab_type": "code",
    "id": "n0JY5D-xtoMt"
   },
   "outputs": [],
   "source": [
    "# let's export our predictions to the csv file for submitting\n",
    "# build a method for one prediction.\n",
    "import csv\n",
    "import glob\n",
    "\n",
    "def predict_to_csv(predicts, file_path):\n",
    "    with open(file_path, 'w', newline='') as csvfile:\n",
    "        writer = csv.writer(csvfile, delimiter = ',')\n",
    "        writer.writerow((\"Id\", \"Category\"))\n",
    "        for i, label in enumerate(predicts):\n",
    "            writer.writerow((i, int_to_label[predicts[i]]))\n",
    "    debug(\"save predict csv files of model: {} to: {}\".format(\n",
    "            current_model_name, file_path))\n",
    "    \n",
    "    \n",
    "def predict_from_csv(csv_path, label_to_int):\n",
    "    csv_data = np.genfromtxt(csv_path, names=True, delimiter=',',\n",
    "                        dtype=[('Id', 'i8'), ('Category', 'S16')])\n",
    "    debug(\"importing prediction from:{}... \".format(csv_path), end = \"\")\n",
    "    predict = np.zeros((csv_data.shape[0], ), dtype = np.long)\n",
    "    for i, predict_label in csv_data:\n",
    "        predict_label = predict_label.decode(\"utf-8\")\n",
    "        predict[i] = label_to_int[predict_label]\n",
    "    debug(\"complete.\")\n",
    "    return predict\n",
    "\n",
    "\n",
    "def predicts_from_csvs(file_path, n_size, label_to_int):\n",
    "    #file_path = \"./candidates/top/*.csv\"\n",
    "    candidates = glob.glob(file_path)\n",
    "    n_files = len(candidates)\n",
    "    if n_files == 0:\n",
    "        debug(\"No submission files found.\")\n",
    "        return None\n",
    "    predicts = np.zeros((n_size, n_files))\n",
    "    voted_predict = [None] * n_size\n",
    "\n",
    "    for i, candidate in enumerate(candidates):\n",
    "        predicts[:, i] = predict_from_csv(candidate, label_to_int)\n",
    "    return predicts\n",
    "\n",
    "\n",
    "def bagging_from_csvs(file_path, n_size, label_to_int):\n",
    "    all_predicts = predicts_from_csvs(file_path, n_size, label_to_int)\n",
    "    if all_predicts is None:\n",
    "        return None, None\n",
    "    voted_predict = bagging(all_predicts)\n",
    "    return voted_predict, all_predicts    \n",
    "\n",
    "# lazy_bagging: collect csv files to make bagging predcition, efficient way\n",
    "# don't need to load models and generate predictions from them.\n",
    "lazy_bagging = bagging_from_csvs "
   ]
  },
  {
   "cell_type": "code",
   "execution_count": 96,
   "metadata": {
    "colab": {
     "base_uri": "https://localhost:8080/",
     "height": 545
    },
    "colab_type": "code",
    "executionInfo": {
     "elapsed": 2462,
     "status": "ok",
     "timestamp": 1543706557311,
     "user": {
      "displayName": "Qiang YE",
      "photoUrl": "https://lh6.googleusercontent.com/-k-9mYNphfpc/AAAAAAAAAAI/AAAAAAAAARQ/zyID3sFntfM/s64/photo.jpg",
      "userId": "15200210150486633975"
     },
     "user_tz": 300
    },
    "id": "-QLuKSuuFP2d",
    "outputId": "6cdd3851-a64b-4ed2-916e-5d72fd5aa429"
   },
   "outputs": [
    {
     "name": "stdout",
     "output_type": "stream",
     "text": [
      "importing prediction from:./candidates/top/lazy_bagging_result_great_than_83.csv... complete.\n",
      "importing prediction from:./candidates/top/lazy_bagging_kaggle_83.40.csv... complete.\n",
      "importing prediction from:./candidates/top/submission_83.00.csv... complete.\n",
      "importing prediction from:./candidates/top/submission_83.40.csv... complete.\n",
      "importing prediction from:./candidates/top/submission_83.00.1.csv... complete.\n",
      "importing prediction from:./candidates/top/submission_83.33.1.csv... complete.\n",
      "importing prediction from:./candidates/top/submission_80.44.csv... complete.\n",
      "importing prediction from:./candidates/top/submission_82.58.csv... complete.\n",
      "importing prediction from:./candidates/top/submission_82.80.csv... complete.\n",
      "importing prediction from:./candidates/top/submission_83.58.csv... complete.\n",
      "importing prediction from:./candidates/top/submission_84.15.csv... complete.\n",
      "importing prediction from:./candidates/top/submission_83.87.csv... complete.\n",
      "importing prediction from:./candidates/top/submission_82.75.csv... complete.\n",
      "importing prediction from:./candidates/top/lazy_bagging_result_great_than_80.csv... complete.\n",
      "importing prediction from:./candidates/top/submission_83.25.csv... complete.\n",
      "importing prediction from:./candidates/top/submission_83.53.csv... complete.\n",
      "importing prediction from:./candidates/top/submission_84.93.csv... complete.\n",
      "importing prediction from:./candidates/top/submission_80.33.csv... complete.\n",
      "importing prediction from:./candidates/top/submission_82.29.csv... complete.\n",
      "importing prediction from:./candidates/top/submission_83.27.csv... complete.\n",
      "importing prediction from:./candidates/top/submission_82.20.csv... complete.\n",
      "importing prediction from:./candidates/top/submission_84.43.csv... complete.\n",
      "importing prediction from:./candidates/top/submission_82.73.csv... complete.\n",
      "importing prediction from:./candidates/top/submission_83.11.csv... complete.\n",
      "importing prediction from:./candidates/top/submission_82.93.csv... complete.\n",
      "importing prediction from:./candidates/top/submission_79.40.csv... complete.\n",
      "importing prediction from:./candidates/top/lazy_bagging_result_great_than_84.csv... complete.\n",
      "importing prediction from:./candidates/top/submission_78.80.csv... complete.\n",
      "importing prediction from:./candidates/top/submission_82.60.csv... complete.\n",
      "importing prediction from:./candidates/top/submission_83.33.csv... complete.\n"
     ]
    }
   ],
   "source": [
    "voted_predict, all_predicts = bagging_from_csvs(\"./candidates/top/*csv\", 10000, label_to_int)"
   ]
  },
  {
   "cell_type": "code",
   "execution_count": 97,
   "metadata": {
    "colab": {
     "base_uri": "https://localhost:8080/",
     "height": 633
    },
    "colab_type": "code",
    "executionInfo": {
     "elapsed": 296,
     "status": "ok",
     "timestamp": 1543706563170,
     "user": {
      "displayName": "Qiang YE",
      "photoUrl": "https://lh6.googleusercontent.com/-k-9mYNphfpc/AAAAAAAAAAI/AAAAAAAAARQ/zyID3sFntfM/s64/photo.jpg",
      "userId": "15200210150486633975"
     },
     "user_tz": 300
    },
    "id": "kwFzwvr0He8N",
    "outputId": "4bd10d9f-49e7-432e-ccd2-7cc78461f6a9"
   },
   "outputs": [
    {
     "name": "stdout",
     "output_type": "stream",
     "text": [
      "Distribution of:  bagging from csvs\n",
      "classes:31 total: 10000 (100%) \n",
      "--------------------------------\n",
      "          shovel: 293 (2.93%)\n",
      "           rifle: 461 (4.61%)\n",
      "        scorpion: 365 (3.65%)\n",
      "           apple: 358 (3.58%)\n",
      "           spoon: 181 (1.81%)\n",
      "       pineapple: 521 (5.21%)\n",
      "           mouth: 565 (5.65%)\n",
      "      skateboard: 416 (4.16%)\n",
      "    rollerskates: 276 (2.76%)\n",
      "          peanut: 213 (2.13%)\n",
      "          rabbit: 370 (3.70%)\n",
      "            sink: 262 (2.62%)\n",
      "        sailboat: 415 (4.15%)\n",
      "            nose: 191 (1.91%)\n",
      "           skull: 292 (2.92%)\n",
      "            pool: 473 (4.73%)\n",
      "            pear: 175 (1.75%)\n",
      "          pillow: 248 (2.48%)\n",
      "         penguin: 368 (3.68%)\n",
      "            nail: 362 (3.62%)\n",
      "          pencil: 289 (2.89%)\n",
      "           empty: 372 (3.72%)\n",
      "         octagon: 456 (4.56%)\n",
      "       moustache: 446 (4.46%)\n",
      "      paintbrush: 312 (3.12%)\n",
      "           panda: 189 (1.89%)\n",
      "          parrot: 161 (1.61%)\n",
      "     screwdriver: 158 (1.58%)\n",
      "        squiggle: 214 (2.14%)\n",
      "      rhinoceros: 214 (2.14%)\n",
      "             mug: 384 (3.84%)\n",
      "--------------------------------\n"
     ]
    }
   ],
   "source": [
    "view_data_distribution(voted_predict, \"bagging from csvs\", int_to_label)"
   ]
  },
  {
   "cell_type": "code",
   "execution_count": 99,
   "metadata": {
    "colab": {
     "base_uri": "https://localhost:8080/",
     "height": 34
    },
    "colab_type": "code",
    "executionInfo": {
     "elapsed": 296,
     "status": "ok",
     "timestamp": 1543706576485,
     "user": {
      "displayName": "Qiang YE",
      "photoUrl": "https://lh6.googleusercontent.com/-k-9mYNphfpc/AAAAAAAAAAI/AAAAAAAAARQ/zyID3sFntfM/s64/photo.jpg",
      "userId": "15200210150486633975"
     },
     "user_tz": 300
    },
    "id": "8sJq9U5IiHW2",
    "outputId": "1ce70708-c7b7-463b-8437-ecdd3af2252d"
   },
   "outputs": [
    {
     "name": "stdout",
     "output_type": "stream",
     "text": [
      "save predict csv files of model: bagging to: submissions/submission_bagging.csv\n"
     ]
    }
   ],
   "source": [
    "# saving bagging submisions\n",
    "#average_accuracy = 1.0\n",
    "file_path = 'submissions/submission_' + \"bagging\"\n",
    "#file_path += '_{:.2f}'.format(100 * average_accuracy)\n",
    "file_path += '.csv'\n",
    "predict_to_csv(predict_bagging, file_path) "
   ]
  },
  {
   "cell_type": "code",
   "execution_count": 100,
   "metadata": {
    "colab": {
     "base_uri": "https://localhost:8080/",
     "height": 34
    },
    "colab_type": "code",
    "executionInfo": {
     "elapsed": 394,
     "status": "ok",
     "timestamp": 1543706583819,
     "user": {
      "displayName": "Qiang YE",
      "photoUrl": "https://lh6.googleusercontent.com/-k-9mYNphfpc/AAAAAAAAAAI/AAAAAAAAARQ/zyID3sFntfM/s64/photo.jpg",
      "userId": "15200210150486633975"
     },
     "user_tz": 300
    },
    "id": "-Dht1O9StoMv",
    "outputId": "14c1d75f-f461-47ea-f892-9f04b977bf67"
   },
   "outputs": [
    {
     "name": "stdout",
     "output_type": "stream",
     "text": [
      "save predict csv files of model: Net5_0.5_0.0__YQ_0 to: submissions/submission_Net5_0.5_0.0__YQ_0.csv\n"
     ]
    }
   ],
   "source": [
    "# saving all single model submissions \n",
    "trainers = [\"YQ\"]\n",
    "for i, model in enumerate(models):\n",
    "    for trainer in trainers:\n",
    "        suffix = \"_\" + trainer + \"_\" + str(i)\n",
    "        current_model_name = model.get_name(suffix)\n",
    "        file_path = 'submissions/submission_' + current_model_name\n",
    "        #file_path += '_{:.2f}'.format(100 * average_accuracy)\n",
    "        file_path += '.csv'\n",
    "        predict_to_csv(all_predicts[:,i], file_path)  "
   ]
  },
  {
   "cell_type": "markdown",
   "metadata": {
    "colab_type": "text",
    "id": "ALeTSZyT6Bpz"
   },
   "source": [
    "## All DONE!"
   ]
  },
  {
   "cell_type": "markdown",
   "metadata": {
    "colab_type": "text",
    "id": "7ax8e9oJGTa5"
   },
   "source": [
    "### Contribution\n",
    "\n",
    "**Jinfang Luo** designed and implemented `Linear SVM`,  and tested all the codes;\n",
    "\n",
    "**Lifeng Wan** designed and implemented class: `DFS`,  function: `get_region_size`, `get_point_in_biggest_region`,  `find_max_connected_points`,  `normalize_dataset`,  `predict_from_csv`,  `predicts_from_csvs`,  `lazy_bagging`,  and tested all the codes.\n",
    "\n",
    "**Qiang Ye** designed the architecture, implemented the rest codes, and wrote the documents and introduction\n",
    "\n"
   ]
  },
  {
   "cell_type": "markdown",
   "metadata": {
    "colab_type": "text",
    "id": "Tbs1f2DtK01n"
   },
   "source": [
    "### License\n",
    "\n",
    "BSD"
   ]
  }
 ],
 "metadata": {
  "accelerator": "GPU",
  "colab": {
   "collapsed_sections": [],
   "name": "Codes_HW4_IFT6390_Final.ipynb",
   "provenance": [],
   "toc_visible": true,
   "version": "0.3.2"
  },
  "kernelspec": {
   "display_name": "Python 3",
   "language": "python",
   "name": "python3"
  },
  "language_info": {
   "codemirror_mode": {
    "name": "ipython",
    "version": 3
   },
   "file_extension": ".py",
   "mimetype": "text/x-python",
   "name": "python",
   "nbconvert_exporter": "python",
   "pygments_lexer": "ipython3",
   "version": "3.7.1"
  }
 },
 "nbformat": 4,
 "nbformat_minor": 1
}
